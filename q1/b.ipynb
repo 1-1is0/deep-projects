{
 "cells": [
  {
   "cell_type": "code",
   "execution_count": 1,
   "outputs": [],
   "source": [
    "import torch\n",
    "import pandas as pd\n",
    "from pandas import DataFrame\n",
    "import torch.nn as nn\n",
    "from skimage import io, transform, color\n",
    "import numpy as np\n",
    "import matplotlib.pyplot as plt\n",
    "from torch.utils.data import dataset, dataloader, Dataset\n",
    "from torchvision import transforms, utils"
   ],
   "metadata": {
    "collapsed": false,
    "pycharm": {
     "name": "#%%\n"
    }
   }
  },
  {
   "cell_type": "code",
   "execution_count": 2,
   "outputs": [
    {
     "data": {
      "text/plain": "True"
     },
     "execution_count": 2,
     "metadata": {},
     "output_type": "execute_result"
    }
   ],
   "source": [
    "torch.cuda.is_available()"
   ],
   "metadata": {
    "collapsed": false,
    "pycharm": {
     "name": "#%%\n"
    }
   }
  },
  {
   "cell_type": "code",
   "execution_count": null,
   "outputs": [],
   "source": [
    "# https://github.com/Spandan-Madan/Pytorch_fine_tuning_Tutorial/blob/master/main_fine_tuning.py\n",
    "# looks how the model is trained"
   ],
   "metadata": {
    "collapsed": false,
    "pycharm": {
     "name": "#%%\n"
    }
   }
  },
  {
   "cell_type": "code",
   "execution_count": null,
   "outputs": [],
   "source": [
    "!wget http://saliency.mit.edu/testSet.zip -O /content/drive/MyDrive/data/testSet.zip"
   ],
   "metadata": {
    "collapsed": false,
    "pycharm": {
     "name": "#%%\n"
    }
   }
  },
  {
   "cell_type": "code",
   "execution_count": null,
   "outputs": [],
   "source": [
    "!unzip /content/drive/MyDrive/data/testSet.zip -d /content/drive/MyDrive/data/q1"
   ],
   "metadata": {
    "collapsed": false,
    "pycharm": {
     "name": "#%%\n"
    }
   }
  },
  {
   "cell_type": "code",
   "execution_count": null,
   "outputs": [],
   "source": [
    "!git clone https://github.com/1-1is0/deep-projects"
   ],
   "metadata": {
    "collapsed": false,
    "pycharm": {
     "name": "#%%\n"
    }
   }
  },
  {
   "cell_type": "code",
   "execution_count": 3,
   "outputs": [],
   "source": [
    "device = torch.device(\"cuda\" if torch.cuda.is_available() else \"cpu\")"
   ],
   "metadata": {
    "collapsed": false,
    "pycharm": {
     "name": "#%%\n"
    }
   }
  },
  {
   "cell_type": "code",
   "execution_count": 14,
   "outputs": [
    {
     "name": "stdout",
     "output_type": "stream",
     "text": [
      "Train: (85, 3)\n",
      "Test: (15, 3)\n"
     ]
    }
   ],
   "source": [
    "from dataloader import load_data, ImageDataset, Rescale, ToTensor\n",
    "\n",
    "# path = \"/content/drive/MyDrive/data/q1/testSet/Stimuli/*/*.jpg\"\n",
    "path = \"data/Stimuli/*/*.jpg\"\n",
    "train_df, test_df = load_data(path)\n",
    "print(\"Train:\", train_df.shape)\n",
    "print(\"Test:\", test_df.shape)"
   ],
   "metadata": {
    "collapsed": false,
    "pycharm": {
     "name": "#%%\n"
    }
   }
  },
  {
   "cell_type": "code",
   "execution_count": 15,
   "outputs": [],
   "source": [
    "train_dataset = ImageDataset(\n",
    "    train_df,\n",
    "    transform=transforms.Compose(\n",
    "        [\n",
    "            Rescale((320, 240)),\n",
    "            # RandomCrop(224),\n",
    "            ToTensor(),\n",
    "        ]\n",
    "    ),\n",
    ")\n",
    "\n",
    "\n",
    "test_dataset = ImageDataset(\n",
    "    test_df,\n",
    "    transform=transforms.Compose(\n",
    "        [\n",
    "            Rescale((320, 240)),\n",
    "            # RandomCrop(224),\n",
    "            ToTensor(),\n",
    "        ]\n",
    "    ),\n",
    ")\n",
    "\n",
    "\n",
    "trainloader = torch.utils.data.DataLoader(\n",
    "    train_dataset, batch_size=4, shuffle=True, num_workers=2\n",
    ")\n",
    "\n",
    "testloader = torch.utils.data.DataLoader(\n",
    "    test_dataset, batch_size=4, shuffle=True, num_workers=2\n",
    ")"
   ],
   "metadata": {
    "collapsed": false,
    "pycharm": {
     "name": "#%%\n"
    }
   }
  },
  {
   "cell_type": "code",
   "execution_count": 16,
   "outputs": [
    {
     "name": "stdout",
     "output_type": "stream",
     "text": [
      "The autoreload extension is already loaded. To reload it, use:\n",
      "  %reload_ext autoreload\n"
     ]
    }
   ],
   "source": [
    "%load_ext autoreload\n",
    "%autoreload 2"
   ],
   "metadata": {
    "collapsed": false,
    "pycharm": {
     "name": "#%%\n"
    }
   }
  },
  {
   "cell_type": "code",
   "execution_count": 17,
   "outputs": [
    {
     "name": "stdout",
     "output_type": "stream",
     "text": [
      "Net(\n",
      "  (conv1): Conv2d(3, 48, kernel_size=(7, 7), stride=(1, 1), padding=(3, 3))\n",
      "  (local_response_norm): LocalResponseNorm(5, alpha=0.0001, beta=0.75, k=1.0)\n",
      "  (max_pool1): MaxPool2d(kernel_size=(3, 3), stride=2, padding=0, dilation=1, ceil_mode=False)\n",
      "  (conv2): Conv2d(48, 128, kernel_size=(5, 5), stride=(1, 1), padding=(2, 2))\n",
      "  (max_pool2): MaxPool2d(kernel_size=(3, 3), stride=2, padding=0, dilation=1, ceil_mode=False)\n",
      "  (conv3): Conv2d(128, 256, kernel_size=(3, 3), stride=(1, 1), padding=(1, 1))\n",
      "  (conv4): Conv2d(256, 256, kernel_size=(5, 5), stride=(1, 1), padding=(2, 2))\n",
      "  (conv5): Conv2d(256, 256, kernel_size=(5, 5), stride=(1, 1), padding=(2, 2))\n",
      "  (conv6): Conv2d(256, 128, kernel_size=(7, 7), stride=(1, 1), padding=(3, 3))\n",
      "  (conv7): Conv2d(128, 64, kernel_size=(11, 11), stride=(1, 1), padding=(5, 5))\n",
      "  (conv8): Conv2d(64, 16, kernel_size=(11, 11), stride=(1, 1), padding=(5, 5))\n",
      "  (conv9): Conv2d(16, 1, kernel_size=(13, 13), stride=(1, 1), padding=(6, 6))\n",
      "  (deconv): ConvTranspose2d(1, 1, kernel_size=(8, 8), stride=(4, 4), bias=False)\n",
      ")\n"
     ]
    }
   ],
   "source": [
    "from model import Net\n",
    "\n",
    "net = Net().to(device)\n",
    "net.initialize_weights()\n",
    "print(net)"
   ],
   "metadata": {
    "collapsed": false,
    "pycharm": {
     "name": "#%%\n"
    }
   }
  },
  {
   "cell_type": "code",
   "execution_count": 18,
   "outputs": [],
   "source": [
    "import torch.optim as optim\n",
    "from torch.optim.lr_scheduler import LambdaLR, ExponentialLR, StepLR\n",
    "import torch.nn as nn\n",
    "\n",
    "criterion = nn.MSELoss()\n",
    "optimizer = optim.SGD(net.parameters(), lr=0.001, momentum=0.9)\n",
    "\n",
    "# scheduler = ExponentialLR(optimizer, gamma=0.9)\n",
    "scheduler = StepLR(optimizer, step_size=5, gamma=0.1)"
   ],
   "metadata": {
    "collapsed": false,
    "pycharm": {
     "name": "#%%\n"
    }
   }
  },
  {
   "cell_type": "code",
   "execution_count": null,
   "outputs": [],
   "source": [
    "from model import train_model\n",
    "\n",
    "dataloader = {\n",
    "    \"train\": trainloader,\n",
    "    \"val\": testloader,\n",
    "}\n",
    "dataset_size = {\n",
    "    \"train\": len(train_dataset),\n",
    "    \"val\": len(test_dataset),\n",
    "}\n",
    "\n",
    "res = train_model(\n",
    "    data_loader=dataloader,\n",
    "    model=net,\n",
    "    criterion=criterion,\n",
    "    optimizer=optimizer,\n",
    "    scheduler=scheduler,\n",
    "    device=device,\n",
    "    epochs=20,\n",
    "    dataset_size=dataset_size,\n",
    "    path=\"./state\"\n",
    ")\n",
    "\n",
    "\n",
    "print(res)"
   ],
   "metadata": {
    "collapsed": false,
    "pycharm": {
     "name": "#%%\n",
     "is_executing": true
    }
   }
  },
  {
   "cell_type": "code",
   "execution_count": null,
   "outputs": [],
   "source": [
    "mm = Net()\n",
    "mm.load_state_dict(torch.load(\"./model_01.pth\"))\n",
    "mm.eval()"
   ],
   "metadata": {
    "collapsed": false,
    "pycharm": {
     "name": "#%%\n"
    }
   }
  },
  {
   "cell_type": "code",
   "execution_count": null,
   "outputs": [],
   "source": [
    "i = mm(data[\"image\"].float())\n",
    "i.shape"
   ],
   "metadata": {
    "collapsed": false,
    "pycharm": {
     "name": "#%%\n"
    }
   }
  },
  {
   "cell_type": "code",
   "execution_count": null,
   "outputs": [],
   "source": [
    "sam = i[2, :, :, :]"
   ],
   "metadata": {
    "collapsed": false,
    "pycharm": {
     "name": "#%%\n"
    }
   }
  },
  {
   "cell_type": "code",
   "execution_count": null,
   "outputs": [],
   "source": [
    "plt.imshow(sam.permute(1, 2, 0).detach().numpy())"
   ],
   "metadata": {
    "collapsed": false,
    "pycharm": {
     "name": "#%%\n"
    }
   }
  },
  {
   "cell_type": "code",
   "execution_count": null,
   "outputs": [],
   "source": [
    "plt.imshow(data[\"fix_map\"][2].permute(1, 2, 0).detach().numpy())"
   ],
   "metadata": {
    "collapsed": false,
    "pycharm": {
     "name": "#%%\n"
    }
   }
  },
  {
   "cell_type": "code",
   "execution_count": null,
   "outputs": [],
   "source": [
    "i[0, :, :, :]"
   ],
   "metadata": {
    "collapsed": false,
    "pycharm": {
     "name": "#%%\n"
    }
   }
  },
  {
   "cell_type": "code",
   "execution_count": 32,
   "outputs": [],
   "source": [
    "conv1 = nn.Conv2d(3, 96, 7, stride=1, padding=3)\n",
    "local_response_norm = nn.LocalResponseNorm(size=5, alpha=0.0001, beta=0.75)\n",
    "max_pool1 = nn.MaxPool2d((3, 3), stride=2)\n",
    "conv2 = nn.Conv2d(96, 256, 5, stride=1, padding=2)\n",
    "max_pool2 = nn.MaxPool2d((3, 3), stride=2, padding=0)\n",
    "conv3 = nn.Conv2d(256, 512, kernel_size=3, stride=1, padding=1)\n",
    "conv4 = nn.Conv2d(512, 512, kernel_size=5, stride=1, padding=2)\n",
    "conv5 = nn.Conv2d(512, 512, kernel_size=5, stride=1, padding=2)\n",
    "conv6 = nn.Conv2d(512, 256, kernel_size=7, stride=1, padding=3)\n",
    "conv7 = nn.Conv2d(256, 128, kernel_size=11, stride=1, padding=5)\n",
    "conv8 = nn.Conv2d(128, 32, kernel_size=11, stride=1, padding=5)\n",
    "conv9 = nn.Conv2d(32, 1, kernel_size=13, stride=1, padding=6)\n",
    "deconv = nn.ConvTranspose2d(1, 1, kernel_size=8, stride=4, bias=False)"
   ],
   "metadata": {
    "collapsed": false,
    "pycharm": {
     "name": "#%%\n"
    }
   }
  },
  {
   "cell_type": "code",
   "execution_count": 33,
   "outputs": [],
   "source": [
    "img = train_dataset[0][\"image\"].unsqueeze(0)"
   ],
   "metadata": {
    "collapsed": false,
    "pycharm": {
     "name": "#%%\n"
    }
   }
  },
  {
   "cell_type": "code",
   "execution_count": 34,
   "outputs": [
    {
     "name": "stdout",
     "output_type": "stream",
     "text": [
      "out1: torch.Size([1, 96, 320, 240])\n",
      "out2: torch.Size([1, 96, 320, 240])\n",
      "out3: torch.Size([1, 96, 159, 119])\n",
      "out4: torch.Size([1, 256, 159, 119])\n",
      "out5: torch.Size([1, 256, 79, 59])\n",
      "out6: torch.Size([1, 512, 79, 59])\n",
      "out7: torch.Size([1, 512, 79, 59])\n",
      "out8: torch.Size([1, 512, 79, 59])\n",
      "out9: torch.Size([1, 256, 79, 59])\n",
      "out10: torch.Size([1, 128, 79, 59])\n",
      "out11: torch.Size([1, 32, 79, 59])\n",
      "out12: torch.Size([1, 1, 79, 59])\n",
      "out13: torch.Size([1, 1, 320, 240])\n"
     ]
    }
   ],
   "source": [
    "out1 = conv1(img)\n",
    "print(\"out1:\", out1.shape)\n",
    "out2 = local_response_norm(out1)\n",
    "print(\"out2:\", out2.shape)\n",
    "out3 = max_pool1(out2)\n",
    "print(\"out3:\", out3.shape)\n",
    "out4 = conv2(out3)\n",
    "print(\"out4:\", out4.shape)\n",
    "out5 = max_pool2(out4)\n",
    "print(\"out5:\", out5.shape)\n",
    "out6 = conv3(out5)\n",
    "print(\"out6:\", out6.shape)\n",
    "out7 = conv4(out6)\n",
    "print(\"out7:\", out7.shape)\n",
    "out8 = conv5(out7)\n",
    "print(\"out8:\", out8.shape)\n",
    "out9 = conv6(out8)\n",
    "print(\"out9:\", out9.shape)\n",
    "out10 = conv7(out9)\n",
    "print(\"out10:\", out10.shape)\n",
    "out11 = conv8(out10)\n",
    "print(\"out11:\", out11.shape)\n",
    "out12 = conv9(out11)\n",
    "print(\"out12:\", out12.shape)\n",
    "out13 = deconv(out12)\n",
    "print(\"out13:\", out13.shape)"
   ],
   "metadata": {
    "collapsed": false,
    "pycharm": {
     "name": "#%%\n"
    }
   }
  },
  {
   "cell_type": "code",
   "execution_count": null,
   "outputs": [],
   "source": [],
   "metadata": {
    "collapsed": false,
    "pycharm": {
     "name": "#%%\n"
    }
   }
  }
 ],
 "metadata": {
  "kernelspec": {
   "display_name": "Python 3",
   "language": "python",
   "name": "python3"
  },
  "language_info": {
   "codemirror_mode": {
    "name": "ipython",
    "version": 3
   },
   "file_extension": ".py",
   "mimetype": "text/x-python",
   "name": "python",
   "nbconvert_exporter": "python",
   "pygments_lexer": "ipython3",
   "version": "3.9.5"
  }
 },
 "nbformat": 4,
 "nbformat_minor": 0
}