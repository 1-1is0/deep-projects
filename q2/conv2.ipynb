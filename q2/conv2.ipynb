{
 "cells": [
  {
   "cell_type": "code",
   "execution_count": 3,
   "outputs": [],
   "source": [
    "import os\n",
    "\n",
    "import torch\n",
    "import torch.nn as nn\n",
    "from torch.utils.data import dataset\n",
    "from torchvision import transforms\n"
   ],
   "metadata": {
    "collapsed": false,
    "pycharm": {
     "name": "#%%\n"
    }
   }
  },
  {
   "cell_type": "code",
   "execution_count": 5,
   "outputs": [],
   "source": [
    "%load_ext autoreload\n",
    "%autoreload 2"
   ],
   "metadata": {
    "collapsed": false,
    "pycharm": {
     "name": "#%%\n"
    }
   }
  },
  {
   "cell_type": "code",
   "execution_count": null,
   "outputs": [],
   "source": [
    "!mkdir -p /content/drive/MyDrive/data/state"
   ],
   "metadata": {
    "collapsed": false,
    "pycharm": {
     "name": "#%%\n"
    }
   }
  },
  {
   "cell_type": "code",
   "execution_count": null,
   "outputs": [],
   "source": [
    "!wget http://cs231n.stanford.edu/tiny-imagenet-200.zip -O /content/drive/MyDrive/data/testSet.zip"
   ],
   "metadata": {
    "collapsed": false,
    "pycharm": {
     "name": "#%%\n"
    }
   }
  },
  {
   "cell_type": "code",
   "execution_count": null,
   "outputs": [],
   "source": [
    "!unzip -q /content/drive/MyDrive/data/testSet.zip -d /content/drive/MyDrive/data/"
   ],
   "metadata": {
    "collapsed": false,
    "pycharm": {
     "name": "#%%\n"
    }
   }
  },
  {
   "cell_type": "code",
   "execution_count": null,
   "outputs": [],
   "source": [
    "!git clone https://github.com/1-1is0/deep-projects"
   ],
   "metadata": {
    "collapsed": false,
    "pycharm": {
     "name": "#%%\n"
    }
   }
  },
  {
   "cell_type": "code",
   "execution_count": null,
   "outputs": [],
   "source": [
    "!cp /content/deep-projects/q2/*.py ."
   ],
   "metadata": {
    "collapsed": false,
    "pycharm": {
     "name": "#%%\n"
    }
   }
  },
  {
   "cell_type": "code",
   "execution_count": 4,
   "outputs": [
    {
     "name": "stdout",
     "output_type": "stream",
     "text": [
      "cuda\n"
     ]
    }
   ],
   "source": [
    "torch.cuda.is_available()\n",
    "device = torch.device(\"cuda\" if torch.cuda.is_available() else \"cpu\")\n",
    "print(device)"
   ],
   "metadata": {
    "collapsed": false,
    "pycharm": {
     "name": "#%%\n"
    }
   }
  },
  {
   "cell_type": "code",
   "execution_count": 6,
   "outputs": [],
   "source": [
    "if os.environ.get(\"USERNAME\") == 'amir':\n",
    "    base_path = \".\"\n",
    "else:\n",
    "    base_path = \"/content/drive/MyDrive\"\n",
    "data_path = f\"{base_path}/data/tiny-imagenet-200/train/*\"\n",
    "state_path = f\"{base_path}/data/state\"\n"
   ],
   "metadata": {
    "collapsed": false,
    "pycharm": {
     "name": "#%%\n"
    }
   }
  },
  {
   "cell_type": "code",
   "execution_count": 11,
   "outputs": [
    {
     "name": "stdout",
     "output_type": "stream",
     "text": [
      "train_dataset: 1000\n",
      "test_dataset 100\n"
     ]
    }
   ],
   "source": [
    "from dataloader import load_data, get_datasets, get_data_loader\n",
    "train_df, test_df = load_data(data_path)\n",
    "train_dataset, test_dataset = get_datasets(train_df, test_df)\n",
    "trainloader, testloader = get_data_loader(train_dataset, test_dataset)\n",
    "\n",
    "print(\"train_dataset:\", len(train_dataset))\n",
    "print(\"test_dataset\", len(test_dataset))\n"
   ],
   "metadata": {
    "collapsed": false,
    "pycharm": {
     "name": "#%%\n"
    }
   }
  },
  {
   "cell_type": "code",
   "execution_count": 12,
   "outputs": [
    {
     "name": "stdout",
     "output_type": "stream",
     "text": [
      "AlexConv2(\n",
      "  (alexnet): AlexNet(\n",
      "    (features): Sequential(\n",
      "      (0): Conv2d(3, 64, kernel_size=(11, 11), stride=(4, 4), padding=(2, 2))\n",
      "      (1): ReLU(inplace=True)\n",
      "      (2): MaxPool2d(kernel_size=3, stride=2, padding=0, dilation=1, ceil_mode=False)\n",
      "      (3): Conv2d(64, 192, kernel_size=(5, 5), stride=(1, 1), padding=(2, 2))\n",
      "      (4): ReLU(inplace=True)\n",
      "      (5): MaxPool2d(kernel_size=3, stride=2, padding=0, dilation=1, ceil_mode=False)\n",
      "    )\n",
      "    (avgpool): AdaptiveAvgPool2d(output_size=(6, 6))\n",
      "    (classifier): Sequential(\n",
      "      (0): Dropout(p=0.5, inplace=False)\n",
      "      (1): Linear(in_features=9216, out_features=4096, bias=True)\n",
      "      (2): ReLU(inplace=True)\n",
      "      (3): Dropout(p=0.5, inplace=False)\n",
      "      (4): Linear(in_features=4096, out_features=4096, bias=True)\n",
      "      (5): ReLU(inplace=True)\n",
      "      (6): Linear(in_features=4096, out_features=1000, bias=True)\n",
      "    )\n",
      "  )\n",
      "  (conv1): Conv2d(192, 256, kernel_size=(3, 3), stride=(1, 1), padding=(1, 1))\n",
      "  (conv2): Conv2d(256, 256, kernel_size=(3, 3), stride=(1, 1), padding=(1, 1))\n",
      "  (conv3): Conv2d(256, 256, kernel_size=(3, 3), stride=(1, 1), padding=(1, 1))\n",
      "  (batchnorm1): BatchNorm2d(256, eps=1e-05, momentum=0.1, affine=True, track_running_stats=True)\n",
      "  (upconv1): ConvTranspose2d(256, 256, kernel_size=(5, 5), stride=(2, 2), padding=(2, 2), output_padding=(1, 1))\n",
      "  (upconv2): ConvTranspose2d(256, 128, kernel_size=(5, 5), stride=(2, 2), padding=(2, 2), output_padding=(1, 1))\n",
      "  (upconv3): ConvTranspose2d(128, 64, kernel_size=(5, 5), stride=(2, 2), padding=(2, 2), output_padding=(1, 1))\n",
      "  (upconv4): ConvTranspose2d(64, 32, kernel_size=(5, 5), stride=(2, 2), padding=(2, 2), output_padding=(1, 1))\n",
      "  (upconv5): ConvTranspose2d(32, 3, kernel_size=(5, 5), stride=(2, 2), padding=(2, 2), output_padding=(1, 1))\n",
      ")\n"
     ]
    }
   ],
   "source": [
    "from model import AlexConv2\n",
    "net = AlexConv2().to(device)\n",
    "net.initialize_weights()\n",
    "print(net)"
   ],
   "metadata": {
    "collapsed": false,
    "pycharm": {
     "name": "#%%\n"
    }
   }
  },
  {
   "cell_type": "code",
   "execution_count": 13,
   "outputs": [],
   "source": [
    "import torch.optim as optim\n",
    "from torch.optim.lr_scheduler import ExponentialLR, StepLR\n",
    "\n",
    "criterion = nn.MSELoss()\n",
    "optimizer = optim.SGD(net.parameters(), lr=0.01, momentum=0.9)\n",
    "\n",
    "scheduler = StepLR(optimizer, step_size=5, gamma=0.3)\n"
   ],
   "metadata": {
    "collapsed": false,
    "pycharm": {
     "name": "#%%\n"
    }
   }
  },
  {
   "cell_type": "code",
   "execution_count": 14,
   "outputs": [
    {
     "name": "stdout",
     "output_type": "stream",
     "text": [
      "state_file_name ./data/state/state-AlexConv2.pth\n",
      "epoch 0 1.462255497932434\n",
      "epoch 0 1.0821214866638185\n",
      "epoch 1 1.459554160118103\n",
      "epoch 1 1.0828154850006104\n",
      "epoch 2 1.4565855188369752\n",
      "epoch 2 1.0838229513168336\n",
      "epoch 3 1.4541563806533813\n",
      "epoch 3 1.0851356506347656\n",
      "epoch 4 1.4520274782180786\n",
      "epoch 4 1.0864614057540893\n",
      "Finished Training\n"
     ]
    }
   ],
   "source": [
    "\n",
    "from model import train_model\n",
    "dataloader = {\n",
    "    \"train\": trainloader,\n",
    "    \"val\": testloader,\n",
    "}\n",
    "dataset_size = {\n",
    "    \"train\": len(train_dataset),\n",
    "    \"val\": len(test_dataset),\n",
    "}\n",
    "\n",
    "res = train_model(data_loader=dataloader, model=net, criterion=criterion, optimizer=optimizer, scheduler=scheduler, device=device, epochs=5, dataset_size=dataset_size, path=state_path)\n"
   ],
   "metadata": {
    "collapsed": false,
    "pycharm": {
     "name": "#%%\n"
    }
   }
  },
  {
   "cell_type": "code",
   "execution_count": 11,
   "outputs": [
    {
     "name": "stdout",
     "output_type": "stream",
     "text": [
      "torch.Size([1, 3, 227, 227])\n",
      "torch.Size([1, 3, 416, 416])\n"
     ]
    }
   ],
   "source": [
    "i = train_dataset[0]['image']\n",
    "ii = i.unsqueeze(0)\n",
    "print(ii.shape)\n",
    "ans = net(ii.to(device))\n",
    "print(ans.shape)"
   ],
   "metadata": {
    "collapsed": false,
    "pycharm": {
     "name": "#%%\n"
    }
   }
  },
  {
   "cell_type": "code",
   "execution_count": 25,
   "outputs": [],
   "source": [
    "from torchvision import models\n",
    "\n",
    "alexnet = models.alexnet(pretrained=True)\n",
    "for params in alexnet.parameters():\n",
    "    params.requires_grad = False\n",
    "alexnet.classifier  = alexnet.classifier[:-4]"
   ],
   "metadata": {
    "collapsed": false,
    "pycharm": {
     "name": "#%%\n"
    }
   }
  },
  {
   "cell_type": "code",
   "execution_count": 26,
   "outputs": [
    {
     "name": "stdout",
     "output_type": "stream",
     "text": [
      "im shape torch.Size([1, 3, 227, 227])\n",
      "x shape torch.Size([1, 4096])\n"
     ]
    }
   ],
   "source": [
    "im = train_dataset[0]['image']\n",
    "im = im.unsqueeze(0)\n",
    "print('im shape', im.shape)\n",
    "x = alexnet(im.to(device))\n",
    "print('x shape', x.shape)"
   ],
   "metadata": {
    "collapsed": false,
    "pycharm": {
     "name": "#%%\n"
    }
   }
  },
  {
   "cell_type": "code",
   "execution_count": 25,
   "outputs": [
    {
     "name": "stdout",
     "output_type": "stream",
     "text": [
      "out1 shape torch.Size([1, 256, 13, 13])\n",
      "out2 shape torch.Size([1, 256, 13, 13])\n",
      "out3 shape torch.Size([1, 256, 13, 13])\n",
      "out4 shape torch.Size([1, 256, 26, 26])\n",
      "out5 shape torch.Size([1, 128, 52, 52])\n",
      "out6 shape torch.Size([1, 64, 104, 104])\n",
      "out7 shape torch.Size([1, 32, 208, 208])\n",
      "out8 shape torch.Size([1, 3, 416, 416])\n"
     ]
    }
   ],
   "source": [
    "conv1 = nn.Conv2d(192, 256, kernel_size=3, stride=1, padding=1)\n",
    "conv2 = nn.Conv2d(256, 256, kernel_size=3, stride=1, padding=1)\n",
    "conv3 = nn.Conv2d(256, 256, kernel_size=3, stride=1, padding=1)\n",
    "upconv1 = nn.ConvTranspose2d(256, 256, kernel_size=5, stride=2, padding=2, output_padding=1)\n",
    "upconv2 = nn.ConvTranspose2d(256, 128, kernel_size=5, stride=2, padding=2, output_padding=1)\n",
    "upconv3 = nn.ConvTranspose2d(128, 64, kernel_size=5, stride=2, padding=2, output_padding=1)\n",
    "upconv4 = nn.ConvTranspose2d(64, 32, kernel_size=5, stride=2, padding=2, output_padding=1)\n",
    "upconv5 = nn.ConvTranspose2d(32, 3, kernel_size=5, stride=2, padding=2, output_padding=1)\n",
    "\n",
    "out1 = conv1(x)\n",
    "print('out1 shape', out1.shape)\n",
    "out2 = conv2(out1)\n",
    "print('out2 shape', out2.shape)\n",
    "out3 = conv3(out2)\n",
    "print('out3 shape', out3.shape)\n",
    "out4 = upconv1(out3)\n",
    "print('out4 shape', out4.shape)\n",
    "out5 = upconv2(out4)\n",
    "print('out5 shape', out5.shape)\n",
    "out6 = upconv3(out5)\n",
    "print('out6 shape', out6.shape)\n",
    "out7 = upconv4(out6)\n",
    "print('out7 shape', out7.shape)\n",
    "out8 = upconv5(out7)\n",
    "print('out8 shape', out8.shape)\n",
    "\n",
    "\n"
   ],
   "metadata": {
    "collapsed": false,
    "pycharm": {
     "name": "#%%\n"
    }
   }
  },
  {
   "cell_type": "code",
   "execution_count": 27,
   "outputs": [
    {
     "name": "stdout",
     "output_type": "stream",
     "text": [
      "out1 shape torch.Size([1, 4096])\n",
      "out2 shape torch.Size([1, 4096])\n",
      "out3 shape torch.Size([1, 4096])\n",
      "out33 shape torch.Size([1, 256, 4, 4])\n",
      "out4 shape torch.Size([1, 256, 8, 8])\n",
      "out5 shape torch.Size([1, 128, 16, 16])\n",
      "out6 shape torch.Size([1, 64, 32, 32])\n",
      "out7 shape torch.Size([1, 32, 64, 64])\n"
     ]
    }
   ],
   "source": [
    "\n",
    "fc1 = nn.Linear(4096, 4096)\n",
    "fc2 = nn.Linear(4096, 4096)\n",
    "fc3 = nn.Linear(4096, 4096)\n",
    "upconv1 = nn.ConvTranspose2d(\n",
    "    256, 256, kernel_size=5, stride=2, padding=2, output_padding=1\n",
    ")\n",
    "upconv2 = nn.ConvTranspose2d(\n",
    "    256, 128, kernel_size=5, stride=2, padding=2, output_padding=1\n",
    ")\n",
    "upconv3 = nn.ConvTranspose2d(\n",
    "    128, 64, kernel_size=5, stride=2, padding=2, output_padding=1\n",
    ")\n",
    "upconv4 = nn.ConvTranspose2d(\n",
    "    64, 32, kernel_size=5, stride=2, padding=2, output_padding=1\n",
    ")\n",
    "upconv5 = nn.ConvTranspose2d(\n",
    "    32, 3, kernel_size=5, stride=2, padding=2, output_padding=1\n",
    ")\n",
    "\n",
    "out1 = fc1(x)\n",
    "print('out1 shape', out1.shape)\n",
    "out2 = fc2(out1)\n",
    "print('out2 shape', out2.shape)\n",
    "out3 = fc3(out2)\n",
    "print('out3 shape', out3.shape)\n",
    "out33 = out3.view(x.size(0), 256, 4, 4)\n",
    "print(\"out33 shape\", out33.shape)\n",
    "out4 = upconv1(out33)\n",
    "print('out4 shape', out4.shape)\n",
    "out5 = upconv2(out4)\n",
    "print('out5 shape', out5.shape)\n",
    "out6 = upconv3(out5)\n",
    "print('out6 shape', out6.shape)\n",
    "out7 = upconv4(out6)\n",
    "print('out7 shape', out7.shape)\n",
    "out8 = upconv5(out7)\n",
    "\n"
   ],
   "metadata": {
    "collapsed": false,
    "pycharm": {
     "name": "#%%\n"
    }
   }
  },
  {
   "cell_type": "code",
   "execution_count": 29,
   "outputs": [],
   "source": [
    "import torch.nn.functional as F"
   ],
   "metadata": {
    "collapsed": false,
    "pycharm": {
     "name": "#%%\n"
    }
   }
  },
  {
   "cell_type": "code",
   "execution_count": 30,
   "outputs": [
    {
     "data": {
      "text/plain": "torch.Size([1, 3, 277, 277])"
     },
     "execution_count": 30,
     "metadata": {},
     "output_type": "execute_result"
    }
   ],
   "source": [
    "F.interpolate(out8, 277).shape"
   ],
   "metadata": {
    "collapsed": false,
    "pycharm": {
     "name": "#%%\n"
    }
   }
  },
  {
   "cell_type": "code",
   "execution_count": null,
   "outputs": [],
   "source": [],
   "metadata": {
    "collapsed": false,
    "pycharm": {
     "name": "#%%\n"
    }
   }
  }
 ],
 "metadata": {
  "kernelspec": {
   "display_name": "Python 3",
   "language": "python",
   "name": "python3"
  },
  "language_info": {
   "codemirror_mode": {
    "name": "ipython",
    "version": 3
   },
   "file_extension": ".py",
   "mimetype": "text/x-python",
   "name": "python",
   "nbconvert_exporter": "python",
   "pygments_lexer": "ipython3",
   "version": "3.9.5"
  }
 },
 "nbformat": 4,
 "nbformat_minor": 0
}