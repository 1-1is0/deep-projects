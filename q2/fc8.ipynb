{
 "cells": [
  {
   "cell_type": "code",
   "execution_count": 1,
   "outputs": [],
   "source": [
    "import torch\n",
    "import os\n",
    "import pandas as pd\n",
    "from skimage import io, transform, color\n",
    "from PIL import Image\n",
    "import torch.nn as nn\n",
    "\n",
    "from torchvision import models\n",
    "from torchvision.io import read_image\n",
    "import numpy as np\n",
    "import matplotlib.pyplot as plt\n",
    "from torch.utils.data import dataset, dataloader, Dataset\n",
    "from torchvision import transforms, utils"
   ],
   "metadata": {
    "collapsed": false,
    "pycharm": {
     "name": "#%%\n"
    }
   }
  },
  {
   "cell_type": "code",
   "execution_count": null,
   "outputs": [],
   "source": [
    "!mkdir -p /content/drive/MyDrive/data/state"
   ],
   "metadata": {
    "collapsed": false,
    "pycharm": {
     "name": "#%%\n"
    }
   }
  },
  {
   "cell_type": "code",
   "execution_count": null,
   "outputs": [],
   "source": [
    "!wget http://cs231n.stanford.edu/tiny-imagenet-200.zip -O /content/drive/MyDrive/data/testSet.zip"
   ],
   "metadata": {
    "collapsed": false,
    "pycharm": {
     "name": "#%%\n"
    }
   }
  },
  {
   "cell_type": "code",
   "execution_count": null,
   "outputs": [],
   "source": [
    "!unzip -q /content/drive/MyDrive/data/testSet.zip -d /content/drive/MyDrive/data/"
   ],
   "metadata": {
    "collapsed": false,
    "pycharm": {
     "name": "#%%\n"
    }
   }
  },
  {
   "cell_type": "code",
   "execution_count": null,
   "outputs": [],
   "source": [
    "!git clone https://github.com/1-1is0/deep-projects"
   ],
   "metadata": {
    "collapsed": false,
    "pycharm": {
     "name": "#%%\n"
    }
   }
  },
  {
   "cell_type": "code",
   "execution_count": null,
   "outputs": [],
   "source": [
    "!cp deep-projects/q2/*.py ."
   ],
   "metadata": {
    "collapsed": false,
    "pycharm": {
     "name": "#%%\n"
    }
   }
  },
  {
   "cell_type": "code",
   "execution_count": null,
   "outputs": [],
   "source": [
    "torch.cuda.is_available()\n",
    "device = torch.device(\"cuda\" if torch.cuda.is_available() else \"cpu\")\n",
    "print(device)\n"
   ],
   "metadata": {
    "collapsed": false,
    "pycharm": {
     "name": "#%%\n"
    }
   }
  },
  {
   "cell_type": "code",
   "execution_count": null,
   "outputs": [],
   "source": [
    "if os.environ.get(\"USERNAME\") == 'amir':\n",
    "    base_path = \".\"\n",
    "else:\n",
    "    base_path = \"/content/drive/MyDrive\"\n",
    "data_path = f\"{base_path}/data/tiny-imagenet-200/train/*\"\n",
    "state_path = f\"{base_path}/data/state\"\n"
   ],
   "metadata": {
    "collapsed": false,
    "pycharm": {
     "name": "#%%\n"
    }
   }
  },
  {
   "cell_type": "code",
   "execution_count": 27,
   "outputs": [],
   "source": [
    "from dataloader import load_data, ImageDataset, Rescale, ToTensor, GetAlexConv\n",
    "path = \"/content/drive/MyDrive/data/tiny-imagenet-200/train/*\"\n",
    "train_df, test_df = load_data(path)\n",
    "train_dataset = ImageDataset(\n",
    "    train_df,\n",
    "    transform=transforms.Compose(\n",
    "        [\n",
    "            Rescale((227, 227)),\n",
    "            ToTensor(),\n",
    "        ]\n",
    "    ),\n",
    ")\n",
    "test_dataset = ImageDataset(\n",
    "    test_df,\n",
    "    transform=transforms.Compose(\n",
    "        [\n",
    "            Rescale((227, 227)),\n",
    "            ToTensor(),\n",
    "        ]\n",
    "    ),\n",
    ")\n",
    "\n",
    "\n",
    "trainloader = torch.utils.data.DataLoader(\n",
    "    train_dataset, batch_size=64, shuffle=True, num_workers=2\n",
    ")\n",
    "testloader = torch.utils.data.DataLoader(\n",
    "    test_dataset, batch_size=64, shuffle=True, num_workers=2\n",
    ")\n",
    "\n",
    "print(\"train_dataset:\", len(train_dataset))\n",
    "print(\"test_dataset\", len(test_dataset))\n"
   ],
   "metadata": {
    "collapsed": false,
    "pycharm": {
     "name": "#%%\n"
    }
   }
  },
  {
   "cell_type": "code",
   "execution_count": 28,
   "outputs": [],
   "source": [
    "from model import AlexFc8\n",
    "net = AlexFc8().to(device)\n",
    "\n",
    "print(net)\n"
   ],
   "metadata": {
    "collapsed": false,
    "pycharm": {
     "name": "#%%\n"
    }
   }
  },
  {
   "cell_type": "code",
   "execution_count": 29,
   "outputs": [],
   "source": [
    "\n",
    "import torch.optim as optim\n",
    "from torch.optim.lr_scheduler import LambdaLR, ExponentialLR, StepLR\n",
    "\n",
    "criterion = nn.MSELoss()\n",
    "optimizer = optim.SGD(net.parameters(), lr=0.001, momentum=0.9)\n",
    "\n",
    "scheduler = StepLR(optimizer, step_size=5, gamma=0.3)\n"
   ],
   "metadata": {
    "collapsed": false,
    "pycharm": {
     "name": "#%%\n"
    }
   }
  },
  {
   "cell_type": "code",
   "execution_count": null,
   "outputs": [],
   "source": [
    "from model import train_model\n",
    "dataloader = {\n",
    "    \"train\": trainloader,\n",
    "    \"val\": testloader,\n",
    "}\n",
    "dataset_size = {\n",
    "    \"train\": len(train_dataset),\n",
    "    \"val\": len(test_dataset),\n",
    "}\n",
    "\n",
    "res = train_model(data_loader=dataloader, model=net, criterion=criterion, optimizer=optimizer, scheduler=scheduler, device=device, epochs=50, dataset_size=dataset_size)\n",
    "\n",
    "\n",
    "print(res)\n"
   ],
   "metadata": {
    "collapsed": false,
    "pycharm": {
     "name": "#%%\n"
    }
   }
  },
  {
   "cell_type": "code",
   "execution_count": null,
   "outputs": [],
   "source": [
    "!cp /content/drive/MyDrive/data/state/state-AlexFc8.pth /kaggle/working/"
   ],
   "metadata": {
    "collapsed": false,
    "pycharm": {
     "name": "#%%\n"
    }
   }
  }
 ],
 "metadata": {
  "kernelspec": {
   "display_name": "Python 3",
   "language": "python",
   "name": "python3"
  },
  "language_info": {
   "codemirror_mode": {
    "name": "ipython",
    "version": 3
   },
   "file_extension": ".py",
   "mimetype": "text/x-python",
   "name": "python",
   "nbconvert_exporter": "python",
   "pygments_lexer": "ipython3",
   "version": "3.9.5"
  }
 },
 "nbformat": 4,
 "nbformat_minor": 0
}