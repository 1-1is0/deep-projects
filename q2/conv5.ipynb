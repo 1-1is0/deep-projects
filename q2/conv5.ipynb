{
 "cells": [
  {
   "cell_type": "code",
   "execution_count": 1,
   "outputs": [],
   "source": [
    "import torch\n",
    "import os\n",
    "import pandas as pd\n",
    "from skimage import io, transform, color\n",
    "from PIL import Image\n",
    "import torch.nn as nn\n",
    "from torchvision import models\n",
    "from torchvision.io import read_image\n",
    "import numpy as np\n",
    "import matplotlib.pyplot as plt\n",
    "from torch.utils.data import dataset, dataloader, Dataset\n",
    "from torchvision import transforms, utils"
   ],
   "metadata": {
    "collapsed": false,
    "pycharm": {
     "name": "#%%\n"
    }
   }
  },
  {
   "cell_type": "code",
   "execution_count": 3,
   "outputs": [],
   "source": [
    "torch.cuda.is_available()\n",
    "device = torch.device(\"cuda\" if torch.cuda.is_available() else \"cpu\")\n",
    "print(device)"
   ],
   "metadata": {
    "collapsed": false,
    "pycharm": {
     "name": "#%%\n"
    }
   }
  },
  {
   "cell_type": "code",
   "execution_count": null,
   "outputs": [],
   "source": [
    "!wget http://cs231n.stanford.edu/tiny-imagenet-200.zip -O /content/drive/MyDrive/data/testSet.zip"
   ],
   "metadata": {
    "collapsed": false,
    "pycharm": {
     "name": "#%%\n"
    }
   }
  },
  {
   "cell_type": "code",
   "execution_count": null,
   "outputs": [],
   "source": [
    "!unzip -q /content/drive/MyDrive/data/testSet.zip -d /content/drive/MyDrive/data/"
   ],
   "metadata": {
    "collapsed": false,
    "pycharm": {
     "name": "#%%\n"
    }
   }
  },
  {
   "cell_type": "code",
   "execution_count": null,
   "outputs": [],
   "source": [
    "!git clone https://github.com/1-1is0/deep-projects"
   ],
   "metadata": {
    "collapsed": false,
    "pycharm": {
     "name": "#%%\n"
    }
   }
  },
  {
   "cell_type": "code",
   "execution_count": null,
   "outputs": [],
   "source": [
    "!cp /content/deep-projects/q2/*.py ."
   ],
   "metadata": {
    "collapsed": false,
    "pycharm": {
     "name": "#%%\n"
    }
   }
  },
  {
   "cell_type": "code",
   "execution_count": null,
   "outputs": [],
   "source": [
    "if os.environ.get(\"USERNAME\") == 'amir':\n",
    "    base_path = \".\"\n",
    "else:\n",
    "    base_path = \"/content/drive/MyDrive\"\n",
    "data_path = f\"{base_path}/data/tiny-imagenet-200/train/*\"\n",
    "state_path = f\"{base_path}/data/state\""
   ],
   "metadata": {
    "collapsed": false,
    "pycharm": {
     "name": "#%%\n"
    }
   }
  },
  {
   "cell_type": "code",
   "execution_count": null,
   "outputs": [],
   "source": [
    "\n",
    "from dataloader import load_data, ImageDataset, Rescale, ToTensor, GetAlexConv\n",
    "train_df, test_df = load_data(data_path)\n",
    "train_dataset = ImageDataset(\n",
    "    train_df,\n",
    "    transform=transforms.Compose(\n",
    "        [\n",
    "            Rescale((227, 227)),\n",
    "            ToTensor(),\n",
    "        ]\n",
    "    ),\n",
    ")\n",
    "test_dataset = ImageDataset(\n",
    "    test_df,\n",
    "    transform=transforms.Compose(\n",
    "        [\n",
    "            Rescale((227, 227)),\n",
    "            ToTensor(),\n",
    "        ]\n",
    "    ),\n",
    ")\n",
    "\n",
    "\n",
    "trainloader = torch.utils.data.DataLoader(\n",
    "    train_dataset, batch_size=64, shuffle=True, num_workers=2\n",
    ")\n",
    "testloader = torch.utils.data.DataLoader(\n",
    "    test_dataset, batch_size=64, shuffle=True, num_workers=2\n",
    ")\n",
    "\n",
    "print(\"train_dataset:\", len(train_dataset))\n",
    "print(\"test_dataset\", len(test_dataset))\n"
   ],
   "metadata": {
    "collapsed": false,
    "pycharm": {
     "name": "#%%\n"
    }
   }
  },
  {
   "cell_type": "code",
   "execution_count": 37,
   "outputs": [],
   "source": [
    "from model import AlexConv5\n",
    "net = AlexConv5().to(device)\n",
    "net.initialize_weights()\n",
    "print(net)"
   ],
   "metadata": {
    "collapsed": false,
    "pycharm": {
     "name": "#%%\n"
    }
   }
  },
  {
   "cell_type": "code",
   "execution_count": 195,
   "outputs": [],
   "source": [
    "import torch.optim as optim\n",
    "from torch.optim.lr_scheduler import ExponentialLR, StepLR\n",
    "\n",
    "criterion = nn.MSELoss()\n",
    "optimizer = optim.SGD(net.parameters(), lr=0.001, momentum=0.9)\n",
    "\n",
    "scheduler = StepLR(optimizer, step_size=5, gamma=0.3)\n"
   ],
   "metadata": {
    "collapsed": false,
    "pycharm": {
     "name": "#%%\n"
    }
   }
  },
  {
   "cell_type": "code",
   "execution_count": null,
   "outputs": [],
   "source": [
    "from model import train_model\n",
    "dataloader = {\n",
    "    \"train\": trainloader,\n",
    "    \"val\": testloader,\n",
    "}\n",
    "dataset_size = {\n",
    "    \"train\": len(train_dataset),\n",
    "    \"val\": len(test_dataset),\n",
    "}\n",
    "\n",
    "res = train_model(data_loader=dataloader, model=net, criterion=criterion, optimizer=optimizer, scheduler=scheduler, device=device, epochs=20, dataset_size=dataset_size, path=state_path)\n"
   ],
   "metadata": {
    "collapsed": false,
    "pycharm": {
     "name": "#%%\n"
    }
   }
  },
  {
   "cell_type": "code",
   "execution_count": null,
   "outputs": [],
   "source": [
    "# https://medium.com/the-owl/extracting-features-from-an-intermediate-layer-of-a-pretrained-model-in-pytorch-easy-way-62631c7fa8f6\n",
    "# maybe some help from this article\n",
    "# this one visualize the output of the convolutional layer\n",
    "# https://ravivaishnav20.medium.com/visualizing-feature-maps-using-pytorch-12a48cd1e573\n",
    "# how to get the hook\n",
    "# https://medium.com/dataseries/visualizing-the-feature-maps-and-filters-by-convolutional-neural-networks-e1462340518e"
   ],
   "metadata": {
    "collapsed": false,
    "pycharm": {
     "name": "#%%\n"
    }
   }
  },
  {
   "cell_type": "code",
   "execution_count": 15,
   "outputs": [],
   "source": [
    "\n",
    "alex = models.alexnet(pretrained=True)\n",
    "\n",
    "for param in alex.parameters():\n",
    "    param.requires_grad = False"
   ],
   "metadata": {
    "collapsed": false,
    "pycharm": {
     "name": "#%%\n"
    }
   }
  },
  {
   "cell_type": "code",
   "execution_count": 16,
   "outputs": [],
   "source": [
    "ans = alex(batch)"
   ],
   "metadata": {
    "collapsed": false,
    "pycharm": {
     "name": "#%%\n"
    }
   }
  },
  {
   "cell_type": "code",
   "execution_count": 17,
   "outputs": [
    {
     "name": "stdout",
     "output_type": "stream",
     "text": [
      "[Sequential(\n",
      "  (0): Conv2d(3, 64, kernel_size=(11, 11), stride=(4, 4), padding=(2, 2))\n",
      "  (1): ReLU(inplace=True)\n",
      "  (2): MaxPool2d(kernel_size=3, stride=2, padding=0, dilation=1, ceil_mode=False)\n",
      "  (3): Conv2d(64, 192, kernel_size=(5, 5), stride=(1, 1), padding=(2, 2))\n",
      "  (4): ReLU(inplace=True)\n",
      "  (5): MaxPool2d(kernel_size=3, stride=2, padding=0, dilation=1, ceil_mode=False)\n",
      "  (6): Conv2d(192, 384, kernel_size=(3, 3), stride=(1, 1), padding=(1, 1))\n",
      "  (7): ReLU(inplace=True)\n",
      "  (8): Conv2d(384, 256, kernel_size=(3, 3), stride=(1, 1), padding=(1, 1))\n",
      "  (9): ReLU(inplace=True)\n",
      "  (10): Conv2d(256, 256, kernel_size=(3, 3), stride=(1, 1), padding=(1, 1))\n",
      "  (11): ReLU(inplace=True)\n",
      "  (12): MaxPool2d(kernel_size=3, stride=2, padding=0, dilation=1, ceil_mode=False)\n",
      "), AdaptiveAvgPool2d(output_size=(6, 6)), Sequential(\n",
      "  (0): Dropout(p=0.5, inplace=False)\n",
      "  (1): Linear(in_features=9216, out_features=4096, bias=True)\n",
      "  (2): ReLU(inplace=True)\n",
      "  (3): Dropout(p=0.5, inplace=False)\n",
      "  (4): Linear(in_features=4096, out_features=4096, bias=True)\n",
      "  (5): ReLU(inplace=True)\n",
      "  (6): Linear(in_features=4096, out_features=1000, bias=True)\n",
      ")]\n"
     ]
    }
   ],
   "source": [
    "child = list(alex.children())\n",
    "\n",
    "print(child)"
   ],
   "metadata": {
    "collapsed": false,
    "pycharm": {
     "name": "#%%\n"
    }
   }
  },
  {
   "cell_type": "code",
   "execution_count": 52,
   "outputs": [
    {
     "data": {
      "text/plain": "[Sequential(\n   (0): Conv2d(3, 64, kernel_size=(11, 11), stride=(4, 4), padding=(2, 2))\n   (1): ReLU(inplace=True)\n   (2): MaxPool2d(kernel_size=3, stride=2, padding=0, dilation=1, ceil_mode=False)\n   (3): Conv2d(64, 192, kernel_size=(5, 5), stride=(1, 1), padding=(2, 2))\n   (4): ReLU(inplace=True)\n   (5): MaxPool2d(kernel_size=3, stride=2, padding=0, dilation=1, ceil_mode=False)\n   (6): Conv2d(192, 384, kernel_size=(3, 3), stride=(1, 1), padding=(1, 1))\n   (7): ReLU(inplace=True)\n   (8): Conv2d(384, 256, kernel_size=(3, 3), stride=(1, 1), padding=(1, 1))\n   (9): ReLU(inplace=True)\n   (10): Conv2d(256, 256, kernel_size=(3, 3), stride=(1, 1), padding=(1, 1))\n   (11): ReLU(inplace=True)\n   (12): MaxPool2d(kernel_size=3, stride=2, padding=0, dilation=1, ceil_mode=False)\n ),\n AdaptiveAvgPool2d(output_size=(6, 6)),\n Sequential(\n   (0): Dropout(p=0.5, inplace=False)\n   (1): Linear(in_features=9216, out_features=4096, bias=True)\n   (2): ReLU(inplace=True)\n   (3): Dropout(p=0.5, inplace=False)\n   (4): Linear(in_features=4096, out_features=4096, bias=True)\n   (5): ReLU(inplace=True)\n   (6): Linear(in_features=4096, out_features=1000, bias=True)\n )]"
     },
     "execution_count": 52,
     "metadata": {},
     "output_type": "execute_result"
    }
   ],
   "source": [
    "child"
   ],
   "metadata": {
    "collapsed": false,
    "pycharm": {
     "name": "#%%\n"
    }
   }
  },
  {
   "cell_type": "code",
   "execution_count": 54,
   "outputs": [
    {
     "name": "stdout",
     "output_type": "stream",
     "text": [
      "torch.Size([1, 4096])\n"
     ]
    }
   ],
   "source": [
    "\n",
    "ans = alex(batch)\n",
    "a = activation[layer]\n",
    "print(a.size())"
   ],
   "metadata": {
    "collapsed": false,
    "pycharm": {
     "name": "#%%\n"
    }
   }
  },
  {
   "cell_type": "code",
   "execution_count": 216,
   "outputs": [
    {
     "name": "stdout",
     "output_type": "stream",
     "text": [
      "out2 torch.Size([1, 192, 13, 13])\n",
      "out3 torch.Size([1, 192, 13, 13])\n",
      "upout1 torch.Size([1, 192, 27, 27])\n",
      "upout2 torch.Size([1, 96, 55, 55])\n",
      "upout3 torch.Size([1, 48, 111, 111])\n",
      "upout4 torch.Size([1, 24, 223, 223])\n",
      "upout5 torch.Size([1, 3, 227, 227])\n"
     ]
    }
   ],
   "source": [
    "\n",
    "# conv2 = nn.Conv2d(256, 256, kernel_size=3, stride=1, padding=1)\n",
    "# conv3 = nn.Conv2d(256, 256, kernel_size=3, stride=1, padding=1)\n",
    "# upconv1 = nn.ConvTranspose2d(256, 256, kernel_size=5, stride=2, padding=2)\n",
    "# upconv2 = nn.ConvTranspose2d(256, 128, kernel_size=5, stride=2, padding=1)\n",
    "# upconv3 = nn.ConvTranspose2d(128, 64, kernel_size=5, stride=2, padding=1)\n",
    "# upconv4 = nn.ConvTranspose2d(64, 32, kernel_size=5, stride=2, padding=1)\n",
    "# upconv5 = nn.ConvTranspose2d(32, 3, kernel_size=5, stride=2, padding=1, output_padding=1)\n",
    "#\n",
    "\n",
    "conv2 = nn.Conv2d(192, 192, kernel_size=3, stride=1, padding=1)\n",
    "conv3 = nn.Conv2d(192, 192, kernel_size=3, stride=1, padding=1)\n",
    "upconv1 = nn.ConvTranspose2d(192, 192, kernel_size=5, stride=2, padding=1)\n",
    "upconv2 = nn.ConvTranspose2d(192, 96, kernel_size=5, stride=2, padding=1)\n",
    "upconv3 = nn.ConvTranspose2d(96, 48, kernel_size=5, stride=2, padding=1)\n",
    "upconv4 = nn.ConvTranspose2d(48, 24, kernel_size=5, stride=2, padding=1)\n",
    "upconv5 = nn.ConvTranspose2d(24, 3, kernel_size=5, stride=1, padding=0)\n",
    "\n",
    "out2 = conv2(a)\n",
    "print('out2', out2.size())\n",
    "out3 = conv3(out2)\n",
    "print('out3', out3.size())\n",
    "upout1 = upconv1(out3)\n",
    "print('upout1', upout1.size())\n",
    "upout2 = upconv2(upout1)\n",
    "print('upout2', upout2.size())\n",
    "upout3 = upconv3(upout2)\n",
    "print('upout3', upout3.size())\n",
    "upout4 = upconv4(upout3)\n",
    "print('upout4', upout4.size())\n",
    "upout5 = upconv5(upout4)\n",
    "print('upout5', upout5.size())\n"
   ],
   "metadata": {
    "collapsed": false,
    "pycharm": {
     "name": "#%%\n"
    }
   }
  },
  {
   "cell_type": "code",
   "execution_count": 56,
   "outputs": [
    {
     "name": "stdout",
     "output_type": "stream",
     "text": [
      "a torch.Size([1, 4096])\n",
      "outf1 torch.Size([1, 4096])\n",
      "outf2 torch.Size([1, 4096])\n",
      "outf3 torch.Size([1, 4096])\n",
      "res torch.Size([1, 256, 4, 4])\n",
      "upout1 torch.Size([1, 256, 8, 8])\n",
      "upout2 torch.Size([1, 128, 16, 16])\n",
      "upout3 torch.Size([1, 64, 32, 32])\n",
      "upout4 torch.Size([1, 32, 64, 64])\n",
      "upout5 torch.Size([1, 3, 128, 128])\n"
     ]
    }
   ],
   "source": [
    "fc1 = nn.Linear(4096, 4096)\n",
    "fc2 = nn.Linear(4096, 4096)\n",
    "fc3 = nn.Linear(4096, 4096)\n",
    "up1 = nn.ConvTranspose2d(256, 256, kernel_size=5, stride=2, padding=2, output_padding=1)\n",
    "up2 = nn.ConvTranspose2d(256, 128, kernel_size=5, stride=2, padding=2, output_padding=1)\n",
    "up3 = nn.ConvTranspose2d(128, 64, kernel_size=5, stride=2, padding=2, output_padding=1)\n",
    "up4 = nn.ConvTranspose2d(64, 32, kernel_size=5, stride=2, padding=2, output_padding=1)\n",
    "up5 = nn.ConvTranspose2d(32, 3, kernel_size=5, stride=2, padding=2, output_padding=1)\n",
    "\n",
    "print(\"a\", a.size())\n",
    "outf1 = fc1(a)\n",
    "print(\"outf1\", outf1.size())\n",
    "outf2 = fc2(outf1)\n",
    "print(\"outf2\", outf2.size())\n",
    "outf3 = fc3(outf2)\n",
    "print(\"outf3\", outf3.size())\n",
    "res = outf3.view(outf3.size(0), 256, 4, 4)\n",
    "print(\"res\", res.size())\n",
    "upout1 = up1(res)\n",
    "print(\"upout1\", upout1.size())\n",
    "upout2 = up2(upout1)\n",
    "print(\"upout2\", upout2.size())\n",
    "upout3 = up3(upout2)\n",
    "print(\"upout3\", upout3.size())\n",
    "upout4 = up4(upout3)\n",
    "print(\"upout4\", upout4.size())\n",
    "upout5 = up5(upout4)\n",
    "print(\"upout5\", upout5.size())\n",
    "\n"
   ],
   "metadata": {
    "collapsed": false,
    "pycharm": {
     "name": "#%%\n"
    }
   }
  },
  {
   "cell_type": "code",
   "execution_count": 24,
   "outputs": [
    {
     "name": "stdout",
     "output_type": "stream",
     "text": [
      "torch.Size([1, 3, 301, 301])\n"
     ]
    }
   ],
   "source": [
    "print(upout5.size())\n"
   ],
   "metadata": {
    "collapsed": false,
    "pycharm": {
     "name": "#%%\n"
    }
   }
  },
  {
   "cell_type": "code",
   "execution_count": 26,
   "outputs": [],
   "source": [
    "afive = activation['conv5']\n",
    "afive.squeeze(0)\n",
    "gray_scale = torch.sum(afive,0)\n",
    "gray_scale = gray_scale / afive.shape[0]"
   ],
   "metadata": {
    "collapsed": false,
    "pycharm": {
     "name": "#%%\n"
    }
   }
  },
  {
   "cell_type": "code",
   "execution_count": 27,
   "outputs": [
    {
     "data": {
      "text/plain": "torch.Size([256, 15, 15])"
     },
     "execution_count": 27,
     "metadata": {},
     "output_type": "execute_result"
    }
   ],
   "source": [
    "gray_scale.shape"
   ],
   "metadata": {
    "collapsed": false,
    "pycharm": {
     "name": "#%%\n"
    }
   }
  },
  {
   "cell_type": "code",
   "execution_count": null,
   "outputs": [],
   "source": [],
   "metadata": {
    "collapsed": false,
    "pycharm": {
     "name": "#%%\n"
    }
   }
  },
  {
   "cell_type": "code",
   "execution_count": 31,
   "metadata": {
    "pycharm": {
     "name": "#%%\n"
    }
   },
   "outputs": [
    {
     "name": "stdout",
     "output_type": "stream",
     "text": [
      "[Sequential(\n",
      "  (0): Conv2d(3, 64, kernel_size=(11, 11), stride=(4, 4), padding=(2, 2))\n",
      "  (1): ReLU(inplace=True)\n",
      "  (2): MaxPool2d(kernel_size=3, stride=2, padding=0, dilation=1, ceil_mode=False)\n",
      "  (3): Conv2d(64, 192, kernel_size=(5, 5), stride=(1, 1), padding=(2, 2))\n",
      "  (4): ReLU(inplace=True)\n",
      "  (5): MaxPool2d(kernel_size=3, stride=2, padding=0, dilation=1, ceil_mode=False)\n",
      "  (6): Conv2d(192, 384, kernel_size=(3, 3), stride=(1, 1), padding=(1, 1))\n",
      "  (7): ReLU(inplace=True)\n",
      "  (8): Conv2d(384, 256, kernel_size=(3, 3), stride=(1, 1), padding=(1, 1))\n",
      "  (9): ReLU(inplace=True)\n",
      "  (10): Conv2d(256, 256, kernel_size=(3, 3), stride=(1, 1), padding=(1, 1))\n",
      "  (11): ReLU(inplace=True)\n",
      "  (12): MaxPool2d(kernel_size=3, stride=2, padding=0, dilation=1, ceil_mode=False)\n",
      "), AdaptiveAvgPool2d(output_size=(6, 6)), Sequential(\n",
      "  (0): Dropout(p=0.5, inplace=False)\n",
      "  (1): Linear(in_features=9216, out_features=4096, bias=True)\n",
      "  (2): ReLU(inplace=True)\n",
      "  (3): Dropout(p=0.5, inplace=False)\n",
      "  (4): Linear(in_features=4096, out_features=4096, bias=True)\n",
      "  (5): ReLU(inplace=True)\n",
      "  (6): Linear(in_features=4096, out_features=1000, bias=True)\n",
      ")]\n"
     ]
    }
   ],
   "source": [
    "child = list(alex.children())\n",
    "\n",
    "print(child)"
   ]
  },
  {
   "cell_type": "code",
   "execution_count": 33,
   "metadata": {
    "pycharm": {
     "name": "#%%\n"
    }
   },
   "outputs": [
    {
     "data": {
      "text/plain": [
       "Parameter containing:\n",
       "tensor([[[[ 3.6245e-03,  1.4335e-03,  3.7217e-02, -2.0926e-02,  1.8121e-03],\n",
       "          [ 2.4126e-02, -1.2056e-02,  7.1170e-02, -8.5224e-02,  1.3067e-02],\n",
       "          [ 2.0966e-02, -1.0623e-01,  2.1572e-02, -6.9547e-02,  3.1583e-02],\n",
       "          [-8.3392e-03, -3.9020e-02, -4.6621e-02,  2.2133e-02, -1.3252e-03],\n",
       "          [-1.5370e-02,  8.6569e-03,  3.1479e-02,  1.6698e-02, -4.7130e-03]],\n",
       "\n",
       "         [[-5.4573e-03, -1.9087e-02, -3.2424e-02, -2.2006e-02, -1.2120e-02],\n",
       "          [-7.4972e-03,  3.0946e-02,  3.1899e-02, -7.6327e-03, -1.4720e-02],\n",
       "          [ 5.4830e-03,  8.0306e-02,  6.1262e-02,  1.3252e-02,  2.6240e-02],\n",
       "          [-2.6938e-02,  5.9188e-03,  3.8373e-02, -6.3116e-03,  3.9863e-03],\n",
       "          [ 2.0844e-03, -3.6292e-02, -2.1987e-03, -1.6570e-02,  5.6354e-03]],\n",
       "\n",
       "         [[-1.2587e-02, -5.9436e-02, -9.6281e-02,  1.6745e-02,  4.7471e-02],\n",
       "          [-1.5036e-02, -1.1214e-01, -2.3924e-02,  3.3459e-02,  4.1306e-02],\n",
       "          [-1.3845e-02,  4.1235e-02,  2.1580e-01,  2.9520e-02, -5.8914e-02],\n",
       "          [ 1.2300e-02,  1.0087e-01,  2.1916e-02, -1.4008e-01, -3.1255e-02],\n",
       "          [ 3.7845e-02,  5.2634e-02, -8.0348e-03, -8.1815e-02,  1.4355e-02]],\n",
       "\n",
       "         ...,\n",
       "\n",
       "         [[-1.2711e-02,  2.5915e-02,  4.1726e-02, -1.3706e-02,  1.4752e-03],\n",
       "          [-1.0794e-02,  1.6434e-02,  8.1224e-02, -6.0144e-02, -5.1132e-02],\n",
       "          [-1.3769e-02, -5.3764e-02,  1.1054e-01,  3.8881e-03, -5.8872e-02],\n",
       "          [ 5.1748e-04,  2.3237e-02,  6.1570e-02,  5.5012e-02, -1.8824e-02],\n",
       "          [-4.0024e-03,  9.4621e-03, -2.7666e-02, -3.6102e-03, -6.4362e-03]],\n",
       "\n",
       "         [[-9.5948e-04, -5.7705e-03,  4.5656e-02,  1.4085e-02, -4.3562e-02],\n",
       "          [-4.4058e-03, -3.2867e-02,  4.1615e-02, -1.0995e-02,  2.3037e-02],\n",
       "          [ 1.7953e-02,  5.5599e-03, -4.6110e-02, -6.3326e-02,  2.5256e-02],\n",
       "          [ 5.1608e-03,  4.1085e-02,  2.1804e-02,  1.9433e-02,  3.1380e-02],\n",
       "          [-2.9532e-02, -3.1130e-03,  5.4939e-02,  3.5771e-02, -3.1513e-03]],\n",
       "\n",
       "         [[ 1.7368e-03,  1.5858e-02, -3.9606e-02, -8.6650e-02,  4.2392e-02],\n",
       "          [ 3.2755e-02,  2.0259e-02,  1.4398e-01, -1.5988e-01, -1.1522e-01],\n",
       "          [ 1.1646e-02, -1.3281e-01,  2.5051e-01,  1.9387e-01, -1.4720e-01],\n",
       "          [ 2.9876e-02, -7.6454e-02, -1.3301e-01,  1.2492e-01,  3.0456e-02],\n",
       "          [ 4.8693e-02,  7.8451e-02, -3.9283e-02,  4.8439e-03,  2.0383e-02]]],\n",
       "\n",
       "\n",
       "        [[[ 2.1691e-02, -4.7307e-02,  3.3946e-02,  6.8847e-03,  2.6204e-02],\n",
       "          [ 1.7683e-02, -5.2123e-02, -6.2835e-02, -3.3933e-02,  1.9128e-02],\n",
       "          [ 9.2291e-03, -2.8800e-02, -1.8724e-01, -1.9551e-02, -2.1082e-02],\n",
       "          [-1.4346e-02,  5.7543e-02, -4.1899e-02,  6.3682e-03,  4.2324e-04],\n",
       "          [ 1.2244e-02,  2.3090e-02, -2.2817e-02,  2.3080e-03, -6.4166e-03]],\n",
       "\n",
       "         [[ 4.6469e-03,  7.4133e-03, -4.1122e-02,  2.9806e-02, -1.8110e-02],\n",
       "          [ 9.6099e-03,  3.9877e-02, -4.1848e-02,  6.9251e-03, -2.5908e-02],\n",
       "          [-1.0007e-02,  5.4747e-02,  2.6736e-02,  7.0483e-03,  2.6949e-02],\n",
       "          [-9.5527e-03, -3.6075e-02,  1.4897e-02, -1.2595e-02, -1.8202e-02],\n",
       "          [-1.4465e-04, -6.3873e-02,  5.8016e-02,  2.8762e-02, -9.7704e-04]],\n",
       "\n",
       "         [[-4.5600e-02,  9.9321e-02,  2.0830e-02, -1.7641e-02,  4.3317e-03],\n",
       "          [-1.1306e-01,  1.0613e-01,  1.2299e-01, -1.5599e-02,  1.1943e-02],\n",
       "          [-8.6221e-02,  5.1575e-02,  2.8114e-01,  3.8475e-03,  3.9631e-02],\n",
       "          [ 2.7465e-02, -9.6338e-02,  1.6717e-01,  1.7882e-02, -3.1237e-02],\n",
       "          [ 3.8818e-02, -1.5017e-01,  9.5537e-02,  8.2108e-02, -2.6467e-03]],\n",
       "\n",
       "         ...,\n",
       "\n",
       "         [[ 2.1779e-03,  8.2149e-03,  2.2985e-02, -4.9943e-03, -2.2914e-02],\n",
       "          [ 4.4609e-03,  4.6661e-02,  3.4394e-02,  5.2542e-02, -1.8957e-02],\n",
       "          [-1.4202e-02,  5.9543e-02,  6.0551e-03,  3.6463e-02,  3.2430e-04],\n",
       "          [-2.9488e-02,  4.5902e-02,  5.4980e-02, -2.6936e-03,  4.2663e-03],\n",
       "          [-2.9711e-02, -1.6390e-02,  3.4428e-02, -9.1090e-03, -9.7971e-03]],\n",
       "\n",
       "         [[ 2.0002e-02, -4.4658e-03, -2.8359e-02,  7.4180e-03, -5.3517e-03],\n",
       "          [ 1.3052e-02, -2.9312e-02, -6.5957e-02,  3.1932e-02, -2.3129e-03],\n",
       "          [ 1.4003e-02, -5.7715e-02, -9.1541e-02,  2.8261e-03,  1.8726e-02],\n",
       "          [-1.8143e-02, -4.5023e-02, -9.9762e-03,  1.2348e-02, -1.4161e-03],\n",
       "          [ 3.3575e-03,  1.8285e-02,  1.2383e-02, -2.0430e-02,  2.4573e-02]],\n",
       "\n",
       "         [[-5.4195e-03,  4.5804e-04,  1.7469e-02, -2.2458e-03,  1.7530e-03],\n",
       "          [-1.0281e-02,  3.1367e-02, -2.5485e-02,  1.2870e-02, -7.0466e-04],\n",
       "          [-6.3459e-03,  7.3701e-02, -2.9366e-02,  4.9803e-02,  2.5816e-02],\n",
       "          [-1.9934e-02,  3.8506e-02,  3.0833e-02,  2.5688e-03, -4.4185e-03],\n",
       "          [ 1.8114e-03,  2.3094e-02,  4.6518e-02, -3.3974e-02, -1.1660e-02]]],\n",
       "\n",
       "\n",
       "        [[[-1.0163e-02, -3.7849e-02, -4.6664e-02, -9.7829e-03,  3.7624e-02],\n",
       "          [ 1.4684e-01, -6.4947e-02, -3.7485e-02, -9.2710e-03,  2.3640e-02],\n",
       "          [ 1.8563e-02, -3.5328e-02, -9.6485e-03,  1.4210e-02,  2.7077e-02],\n",
       "          [-6.7717e-03,  2.8039e-03,  4.6860e-03,  4.7567e-03, -6.6633e-03],\n",
       "          [ 2.2155e-02, -1.2387e-03,  3.1133e-02,  3.1837e-02,  2.4495e-03]],\n",
       "\n",
       "         [[ 2.2964e-02, -3.2592e-02, -1.7921e-02,  5.2390e-03,  3.7561e-03],\n",
       "          [ 3.8685e-02, -8.8764e-02, -5.3735e-02, -2.4427e-02,  1.7369e-02],\n",
       "          [ 5.5512e-02, -7.1237e-02, -6.5386e-02, -3.7746e-02,  7.1429e-03],\n",
       "          [ 3.1539e-02, -6.1858e-02, -7.4455e-02, -3.4278e-02, -9.2922e-03],\n",
       "          [ 4.5122e-02, -8.4307e-03, -2.0509e-02, -1.4743e-02,  1.0508e-03]],\n",
       "\n",
       "         [[-9.5345e-03, -2.3179e-02, -1.4264e-02, -6.7151e-03, -2.8285e-02],\n",
       "          [ 1.6202e-01, -2.8234e-02, -2.4645e-02, -1.0152e-02, -2.4914e-02],\n",
       "          [ 8.9119e-02, -2.6843e-02, -3.7465e-02, -7.5062e-03, -1.9929e-03],\n",
       "          [-4.5296e-02, -1.7844e-02, -5.1039e-03,  1.7445e-02,  1.3994e-02],\n",
       "          [-2.0449e-02, -8.8112e-04,  1.3139e-02,  1.8497e-03, -5.4345e-03]],\n",
       "\n",
       "         ...,\n",
       "\n",
       "         [[ 2.5179e-02,  8.3908e-03, -3.4752e-03, -6.7056e-03,  9.4571e-03],\n",
       "          [ 1.4773e-01,  1.8297e-02, -8.2707e-03, -2.6735e-03, -2.9689e-03],\n",
       "          [ 1.8945e-02, -2.4611e-02, -2.5792e-02,  5.7622e-03,  1.5490e-02],\n",
       "          [ 1.0744e-02, -2.2880e-03,  1.3852e-02, -3.0690e-03, -1.4038e-03],\n",
       "          [ 3.5738e-03, -1.7099e-02, -2.0962e-03, -5.2738e-04, -1.1953e-02]],\n",
       "\n",
       "         [[-1.8036e-02,  5.5999e-03, -4.3933e-03, -6.4853e-03,  1.1134e-02],\n",
       "          [ 8.3012e-02, -8.5719e-02, -2.3690e-02,  2.7197e-02,  1.5338e-02],\n",
       "          [ 1.6264e-02, -5.0213e-02, -2.9401e-02, -6.0407e-04,  1.5086e-02],\n",
       "          [ 1.2260e-02,  6.5707e-03, -2.8775e-03, -2.0055e-02,  4.6619e-03],\n",
       "          [ 1.4575e-02, -9.5385e-03, -2.4609e-02, -2.4521e-03,  1.0301e-03]],\n",
       "\n",
       "         [[-1.7248e-02,  7.3069e-03,  1.0429e-02, -1.4917e-02, -6.8504e-03],\n",
       "          [ 6.2874e-02, -3.2599e-02,  5.7802e-03,  1.4551e-02, -6.1276e-03],\n",
       "          [ 7.3852e-03, -6.0841e-02, -1.0494e-02,  3.6026e-03, -1.4746e-02],\n",
       "          [-1.7262e-02,  1.5815e-03, -2.3888e-02, -9.7895e-03, -7.4106e-03],\n",
       "          [ 6.9352e-03,  7.2060e-03, -1.9073e-02, -6.7136e-03,  6.1392e-03]]],\n",
       "\n",
       "\n",
       "        ...,\n",
       "\n",
       "\n",
       "        [[[ 1.7579e-02,  1.0168e-02,  4.4818e-02, -2.6664e-03, -2.2669e-02],\n",
       "          [-1.5147e-02, -3.2701e-02,  1.4564e-02, -1.2843e-02, -3.2623e-02],\n",
       "          [-3.0235e-02, -3.2706e-02, -3.4020e-02, -2.0842e-02, -3.2697e-02],\n",
       "          [-4.2032e-03, -3.4967e-03, -1.0389e-02, -9.6090e-03, -3.1508e-03],\n",
       "          [ 1.1118e-02,  8.8342e-03,  1.8196e-02,  7.5631e-03,  1.5709e-03]],\n",
       "\n",
       "         [[-9.1671e-03,  1.0798e-03, -2.4020e-02, -1.7457e-02, -7.8634e-03],\n",
       "          [-1.5174e-02,  1.8126e-02,  1.3363e-02,  7.1205e-02,  5.8289e-02],\n",
       "          [-1.0982e-02,  1.5266e-02, -2.4875e-02, -4.0705e-03, -2.4844e-02],\n",
       "          [ 2.7485e-03,  1.6571e-02, -3.2608e-02, -5.6266e-02, -3.9944e-02],\n",
       "          [-4.9014e-04,  1.9889e-02, -3.3673e-03, -2.2187e-02, -9.5482e-03]],\n",
       "\n",
       "         [[-2.6544e-02, -4.6466e-02, -1.1130e-01, -6.3725e-02,  2.4153e-02],\n",
       "          [-3.1451e-02, -4.6735e-02, -5.0069e-02,  3.6642e-02,  8.7667e-02],\n",
       "          [ 2.4192e-02,  2.9334e-02,  5.9852e-02,  4.2028e-02, -2.5984e-02],\n",
       "          [ 2.5426e-02,  1.8227e-02,  4.0526e-02, -8.6688e-03, -6.0653e-02],\n",
       "          [ 1.2664e-02,  1.5354e-02,  3.3492e-02,  1.3319e-02, -2.3908e-02]],\n",
       "\n",
       "         ...,\n",
       "\n",
       "         [[-1.5345e-02, -2.7450e-02, -3.7116e-02,  4.8070e-02,  1.0182e-02],\n",
       "          [-5.4621e-02, -6.3059e-02, -5.1834e-02,  6.4004e-02,  2.5790e-02],\n",
       "          [ 1.6780e-02,  1.3105e-02, -3.9535e-02, -1.2138e-03,  9.2518e-03],\n",
       "          [ 1.4997e-02,  1.2259e-02, -2.3395e-02, -2.8443e-02,  2.4942e-02],\n",
       "          [-4.0684e-03,  1.4466e-02,  6.2136e-03, -2.2554e-02, -2.0291e-03]],\n",
       "\n",
       "         [[-3.5230e-02,  8.0857e-03,  2.3528e-02, -1.0179e-02, -2.1804e-03],\n",
       "          [-3.4595e-02,  3.9871e-03,  1.3592e-02, -7.9822e-02, -5.2531e-02],\n",
       "          [-3.2725e-02,  3.4170e-02,  2.6620e-02, -2.4204e-03,  2.4924e-02],\n",
       "          [ 1.8057e-02,  4.6391e-03, -1.2008e-02,  8.8407e-03,  1.9375e-02],\n",
       "          [-2.9099e-02,  1.2933e-04, -1.7477e-02,  4.3010e-02,  6.6167e-02]],\n",
       "\n",
       "         [[ 4.6078e-02,  2.8413e-02, -2.6394e-02,  4.7513e-03, -7.6480e-02],\n",
       "          [ 7.5960e-02,  4.4307e-02, -5.8771e-02,  1.7854e-02,  9.6082e-02],\n",
       "          [ 5.8415e-02,  3.7583e-02, -6.7510e-02, -1.0312e-01, -2.3266e-02],\n",
       "          [ 4.3488e-02,  6.0671e-02,  6.2699e-02,  3.7197e-03, -5.8098e-02],\n",
       "          [ 7.3890e-05,  2.7182e-02,  4.3226e-02,  3.1200e-02, -5.9276e-03]]],\n",
       "\n",
       "\n",
       "        [[[ 2.5983e-02, -2.5757e-02, -2.7917e-02, -6.0154e-02, -2.1587e-02],\n",
       "          [ 5.8470e-03, -4.0597e-02, -9.7084e-02, -1.1321e-01, -4.5251e-02],\n",
       "          [-3.3056e-02, -1.7874e-02, -9.1402e-02, -1.0827e-01, -5.3423e-02],\n",
       "          [-1.4856e-02, -3.3450e-03, -2.7355e-02, -4.8538e-02, -4.1184e-02],\n",
       "          [ 9.0377e-04, -1.8180e-02, -3.1040e-02, -1.1854e-02, -2.6462e-02]],\n",
       "\n",
       "         [[ 7.2521e-02,  1.6407e-02, -1.5754e-01, -8.8864e-02, -2.1638e-02],\n",
       "          [ 9.2281e-02,  8.5642e-02, -6.8582e-02, -7.8368e-02, -9.3343e-02],\n",
       "          [ 1.1667e-01,  1.4296e-01,  1.4621e-02, -6.6599e-02, -1.8653e-01],\n",
       "          [ 4.0418e-02,  8.7898e-02,  4.2521e-02, -8.9029e-03, -1.2440e-01],\n",
       "          [ 2.0246e-02,  6.5828e-02,  9.6516e-02,  5.8696e-02, -7.2705e-02]],\n",
       "\n",
       "         [[-3.7801e-02, -1.1232e-02, -8.1927e-03,  1.2744e-02,  6.8491e-02],\n",
       "          [-4.4532e-03, -9.6229e-03, -3.2608e-02,  2.9350e-03,  3.7486e-02],\n",
       "          [ 3.3585e-02,  4.8458e-02,  2.6881e-02, -6.1178e-02, -2.1019e-02],\n",
       "          [-1.9669e-02,  6.9724e-03,  4.2018e-02, -4.3931e-02, -7.6382e-02],\n",
       "          [ 8.3337e-03,  2.5425e-03,  2.8063e-02, -3.4867e-02, -8.6687e-02]],\n",
       "\n",
       "         ...,\n",
       "\n",
       "         [[-1.2673e-02, -1.5327e-02,  1.6517e-02,  3.3334e-02,  1.3038e-02],\n",
       "          [ 1.6805e-03, -1.8921e-02, -3.6130e-02,  3.2359e-02,  5.0130e-02],\n",
       "          [-1.3607e-02, -3.3703e-02, -7.9256e-02, -5.1558e-03,  6.5082e-02],\n",
       "          [-1.3499e-03,  1.9183e-02, -1.2600e-03, -1.5375e-02,  9.9117e-03],\n",
       "          [-8.6383e-03, -6.4556e-03,  4.4472e-03, -7.7968e-04,  2.6764e-02]],\n",
       "\n",
       "         [[-3.1357e-02, -6.5565e-02, -4.5553e-02,  2.9694e-02,  5.0477e-02],\n",
       "          [ 2.6388e-02, -6.5116e-03, -1.4299e-01, -2.9214e-02,  1.2134e-03],\n",
       "          [ 5.2430e-02,  6.1108e-02, -2.8583e-02, -1.0998e-01, -3.4642e-02],\n",
       "          [ 1.6018e-02,  3.1906e-02,  7.7014e-02, -1.1630e-02, -5.6960e-02],\n",
       "          [ 4.9326e-02, -1.5627e-02,  4.2784e-02,  3.7805e-02, -2.6815e-02]],\n",
       "\n",
       "         [[ 9.0381e-03,  1.6271e-03,  9.9757e-03,  2.6084e-02,  6.8623e-03],\n",
       "          [ 1.0622e-02, -6.1560e-03, -9.2547e-03,  1.8062e-02,  2.2674e-02],\n",
       "          [ 2.8991e-02,  1.2231e-04, -1.6760e-02, -1.9807e-03,  3.1453e-02],\n",
       "          [ 1.8964e-02,  2.8631e-02,  5.8559e-04, -1.0603e-02,  1.1077e-02],\n",
       "          [ 5.4998e-03, -6.3534e-03,  2.9878e-03, -2.7331e-02, -2.4437e-02]]],\n",
       "\n",
       "\n",
       "        [[[ 7.0352e-03, -2.0708e-02, -1.9059e-02, -2.8221e-03,  9.0732e-03],\n",
       "          [-2.2202e-02, -3.6482e-02, -3.3435e-02, -2.0294e-02, -1.1695e-02],\n",
       "          [-7.7194e-03, -3.2950e-02, -5.5740e-02, -3.5089e-02, -1.5053e-02],\n",
       "          [-1.2823e-02, -3.5408e-02, -4.2076e-02, -1.6718e-02, -1.8323e-02],\n",
       "          [-3.9433e-03,  5.0854e-03, -2.3092e-03,  1.1569e-02,  1.1675e-02]],\n",
       "\n",
       "         [[ 1.8536e-02,  2.3997e-02,  1.8607e-02, -2.1316e-03,  3.0036e-02],\n",
       "          [-9.1898e-03, -2.0234e-02, -2.0921e-02, -1.5293e-02, -4.1515e-03],\n",
       "          [-2.5399e-02, -3.6147e-02,  1.1215e-02, -1.3978e-02,  1.0484e-02],\n",
       "          [-1.7011e-03, -1.7085e-02,  1.9866e-02,  6.1436e-03,  4.9555e-03],\n",
       "          [ 1.0626e-02,  1.2917e-02,  4.2516e-02,  1.5874e-02,  1.7050e-02]],\n",
       "\n",
       "         [[-4.0153e-03,  1.6083e-02,  8.7844e-03, -9.1274e-03,  2.2305e-02],\n",
       "          [-2.0949e-02, -3.9927e-03, -3.2194e-02, -2.1123e-02, -1.3385e-03],\n",
       "          [-4.2372e-03,  1.4911e-02,  3.8126e-03, -5.2412e-03,  9.8842e-03],\n",
       "          [ 1.2249e-02,  3.7495e-03, -3.4932e-03,  6.0049e-03,  1.4841e-02],\n",
       "          [ 1.3200e-02, -1.9996e-03,  2.0933e-02,  1.6309e-04, -8.3707e-03]],\n",
       "\n",
       "         ...,\n",
       "\n",
       "         [[-6.4706e-03, -3.2926e-02, -1.5733e-02, -1.7831e-02,  2.1256e-03],\n",
       "          [-5.4066e-02, -5.4719e-02, -4.5444e-02, -5.6256e-02, -3.6743e-02],\n",
       "          [ 2.8305e-02,  2.9538e-02,  4.4844e-02,  2.2081e-02,  3.5385e-02],\n",
       "          [ 1.6821e-02,  1.6557e-02,  5.4560e-02,  1.7084e-02,  2.3373e-02],\n",
       "          [-4.0657e-03, -8.0451e-03,  4.4215e-04,  7.5198e-03,  1.0919e-02]],\n",
       "\n",
       "         [[ 2.0678e-02,  2.0736e-02,  7.6578e-02,  2.9091e-02,  4.1559e-02],\n",
       "          [-1.0118e-03,  5.5359e-02,  1.3228e-01,  6.7964e-02,  4.1530e-02],\n",
       "          [-3.9346e-03,  3.5696e-02,  1.2877e-01,  6.1861e-02,  2.9380e-02],\n",
       "          [ 2.5981e-02,  3.8598e-02,  1.3250e-01,  3.2665e-02, -1.8039e-02],\n",
       "          [-1.9937e-02, -1.3913e-02, -1.0549e-02, -1.3653e-02, -2.4947e-03]],\n",
       "\n",
       "         [[ 7.0426e-02,  2.1494e-02, -9.1289e-03, -9.1144e-03, -5.7207e-03],\n",
       "          [ 3.0881e-02, -1.0100e-02, -5.8352e-02, -3.8790e-02, -2.0214e-02],\n",
       "          [-7.5705e-03, -4.3871e-02, -8.5624e-02, -5.4874e-02, -1.8760e-02],\n",
       "          [-5.6932e-03, -4.2488e-02, -7.0337e-02, -3.9515e-02,  2.8042e-03],\n",
       "          [ 4.9093e-02,  8.0856e-03, -2.0497e-02,  1.7022e-02,  2.4330e-02]]]])"
      ]
     },
     "execution_count": 33,
     "metadata": {},
     "output_type": "execute_result"
    }
   ],
   "source": [
    "child[0][3].weight.size() # conv 2\n",
    "\n",
    "\n",
    "# child[0][10].weight.size()\n"
   ]
  },
  {
   "cell_type": "code",
   "execution_count": 18,
   "metadata": {
    "collapsed": false,
    "pycharm": {
     "name": "#%%\n"
    }
   },
   "outputs": [],
   "source": [
    "# freeze alex net paramsiiiiuuuooo"
   ]
  },
  {
   "cell_type": "code",
   "execution_count": 19,
   "metadata": {
    "collapsed": false,
    "pycharm": {
     "name": "#%%\n"
    }
   },
   "outputs": [
    {
     "data": {
      "text/plain": [
       "Conv2d(3, 64, kernel_size=(11, 11), stride=(4, 4), padding=(2, 2))"
      ]
     },
     "execution_count": 19,
     "metadata": {},
     "output_type": "execute_result"
    }
   ],
   "source": [
    "alex.features[0]"
   ]
  },
  {
   "cell_type": "code",
   "execution_count": 56,
   "outputs": [
    {
     "name": "stderr",
     "output_type": "stream",
     "text": [
      "Clipping input data to the valid range for imshow with RGB data ([0..1] for floats or [0..255] for integers).\n"
     ]
    },
    {
     "data": {
      "text/plain": "<matplotlib.image.AxesImage at 0x7f670a091220>"
     },
     "execution_count": 56,
     "metadata": {},
     "output_type": "execute_result"
    },
    {
     "data": {
      "text/plain": "<Figure size 432x288 with 1 Axes>",
      "image/png": "[encoded data removed]"
     },
     "metadata": {
      "needs_background": "light"
     },
     "output_type": "display_data"
    }
   ],
   "source": [
    "\n",
    "sam = upout5[0,:,:,:]\n",
    "plt.imshow(sam.permute(1, 2, 0).detach().numpy())"
   ],
   "metadata": {
    "collapsed": false,
    "pycharm": {
     "name": "#%%\n"
    }
   }
  },
  {
   "cell_type": "code",
   "execution_count": null,
   "outputs": [],
   "source": [],
   "metadata": {
    "collapsed": false,
    "pycharm": {
     "name": "#%%\n"
    }
   }
  }
 ],
 "metadata": {
  "kernelspec": {
   "display_name": "Python 3",
   "language": "python",
   "name": "python3"
  },
  "language_info": {
   "codemirror_mode": {
    "name": "ipython",
    "version": 3
   },
   "file_extension": ".py",
   "mimetype": "text/x-python",
   "name": "python",
   "nbconvert_exporter": "python",
   "pygments_lexer": "ipython3",
   "version": "3.9.5"
  }
 },
 "nbformat": 4,
 "nbformat_minor": 0
}