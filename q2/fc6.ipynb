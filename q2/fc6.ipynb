{
 "cells": [
  {
   "cell_type": "code",
   "execution_count": 1,
   "outputs": [],
   "source": [
    "import pandas as pd\n",
    "from skimage import io, transform, color\n",
    "from PIL import Image\n",
    "import torch\n",
    "import torch.nn as nn\n",
    "import torch.nn.functional as F\n",
    "import torchvision.transforms.functional as fn\n",
    "from torchvision import models\n",
    "from torchvision.io import read_image\n",
    "import numpy as np\n",
    "import matplotlib.pyplot as plt\n",
    "from torch.utils.data import dataset, dataloader, Dataset\n",
    "from torchvision import transforms, utils"
   ],
   "metadata": {
    "collapsed": false,
    "pycharm": {
     "name": "#%%\n"
    }
   }
  },
  {
   "cell_type": "code",
   "execution_count": 2,
   "outputs": [],
   "source": [
    "%load_ext autoreload\n",
    "%autoreload 2"
   ],
   "metadata": {
    "collapsed": false,
    "pycharm": {
     "name": "#%%\n"
    }
   }
  },
  {
   "cell_type": "code",
   "execution_count": 3,
   "outputs": [
    {
     "name": "stdout",
     "output_type": "stream",
     "text": [
      "cuda\n"
     ]
    }
   ],
   "source": [
    "torch.cuda.is_available()\n",
    "device = torch.device(\"cuda\" if torch.cuda.is_available() else \"cpu\")\n",
    "print(device)"
   ],
   "metadata": {
    "collapsed": false,
    "pycharm": {
     "name": "#%%\n"
    }
   }
  },
  {
   "cell_type": "code",
   "execution_count": 4,
   "outputs": [
    {
     "name": "stdout",
     "output_type": "stream",
     "text": [
      "train_dataset: 700\n",
      "test_dataset 400\n"
     ]
    }
   ],
   "source": [
    "from dataloader import load_data, ImageDataset, Rescale, ToTensor, GetAlexConv\n",
    "\n",
    "test_df, train_df = load_data()\n",
    "train_dataset = ImageDataset(\n",
    "    train_df,\n",
    "    transform=transforms.Compose(\n",
    "        [\n",
    "            Rescale((227, 227)),\n",
    "            ToTensor(),\n",
    "        ]\n",
    "    ),\n",
    "    alexnet_feature=GetAlexConv(layer_number=[2, 2], layer_name=\"fc6\"),\n",
    ")\n",
    "test_dataset = ImageDataset(\n",
    "    test_df,\n",
    "    transform=transforms.Compose(\n",
    "        [\n",
    "            Rescale((227, 227)),\n",
    "            ToTensor(),\n",
    "        ]\n",
    "    ),\n",
    "    alexnet_feature=GetAlexConv(layer_number=[2, 2], layer_name=\"fc6\"),\n",
    ")\n",
    "\n",
    "\n",
    "trainloader = torch.utils.data.DataLoader(\n",
    "    train_dataset, batch_size=64, shuffle=True, num_workers=0\n",
    ")\n",
    "testloader = torch.utils.data.DataLoader(\n",
    "    test_dataset, batch_size=64, shuffle=True, num_workers=0\n",
    ")\n",
    "\n",
    "print(\"train_dataset:\", len(train_dataset))\n",
    "print(\"test_dataset\", len(test_dataset))"
   ],
   "metadata": {
    "collapsed": false,
    "pycharm": {
     "name": "#%%\n"
    }
   }
  },
  {
   "cell_type": "code",
   "execution_count": 5,
   "outputs": [
    {
     "name": "stdout",
     "output_type": "stream",
     "text": [
      "AlexFc6(\n",
      "  (fc1): Linear(in_features=4096, out_features=4096, bias=True)\n",
      "  (fc2): Linear(in_features=4096, out_features=4096, bias=True)\n",
      "  (fc3): Linear(in_features=4096, out_features=4096, bias=True)\n",
      "  (upconv1): ConvTranspose2d(256, 256, kernel_size=(5, 5), stride=(2, 2), padding=(2, 2), output_padding=(1, 1))\n",
      "  (upconv2): ConvTranspose2d(256, 128, kernel_size=(5, 5), stride=(2, 2), padding=(2, 2), output_padding=(1, 1))\n",
      "  (upconv3): ConvTranspose2d(128, 64, kernel_size=(5, 5), stride=(2, 2), padding=(2, 2), output_padding=(1, 1))\n",
      "  (upconv4): ConvTranspose2d(64, 32, kernel_size=(5, 5), stride=(2, 2), padding=(2, 2), output_padding=(1, 1))\n",
      "  (upconv5): ConvTranspose2d(32, 3, kernel_size=(5, 5), stride=(2, 2), padding=(2, 2), output_padding=(1, 1))\n",
      ")\n"
     ]
    }
   ],
   "source": [
    "from model import AlexFc6\n",
    "net = AlexFc6().to(device)\n",
    "\n",
    "print(net)"
   ],
   "metadata": {
    "collapsed": false,
    "pycharm": {
     "name": "#%%\n"
    }
   }
  },
  {
   "cell_type": "code",
   "execution_count": 6,
   "outputs": [],
   "source": [
    "import torch.optim as optim\n",
    "from torch.optim.lr_scheduler import LambdaLR, ExponentialLR\n",
    "\n",
    "criterion = nn.MSELoss()\n",
    "optimizer = optim.SGD(net.parameters(), lr=0.001, momentum=0.9)\n",
    "\n",
    "scheduler = ExponentialLR(optimizer, gamma=0.9)\n",
    "\n"
   ],
   "metadata": {
    "collapsed": false,
    "pycharm": {
     "name": "#%%\n"
    }
   }
  },
  {
   "cell_type": "code",
   "execution_count": 7,
   "outputs": [
    {
     "name": "stdout",
     "output_type": "stream",
     "text": [
      "epoch 0 15.416377511891453\n",
      "epoch 0 13.859056881495885\n",
      "Finished Training\n",
      "{'epoch_loss_train': [0.24622354405266897, 0.24466896968228477, 0.24337120992796762, 0.24225736090115138], 'loss_history_train': [172.3564808368683, 171.26827877759933, 170.35984694957733, 169.58015263080597], 'lr': [0.0004782969, 0.00043046721, 0.000387420489, 0.0003486784401], 'epoch_loss_val': [0.24604156494140625, 0.24466521680355072, 0.2435037064552307, 0.24253349542617797], 'loss_history_val': [98.4166259765625, 97.86608672142029, 97.40148258209229, 97.01339817047119]}\n"
     ]
    }
   ],
   "source": [
    "from model import train_model\n",
    "dataloader = {\n",
    "    \"train\": trainloader,\n",
    "    \"val\": testloader,\n",
    "}\n",
    "dataset_size = {\n",
    "    \"train\": len(train_dataset),\n",
    "    \"val\": len(test_dataset),\n",
    "}\n",
    "\n",
    "res = train_model(data_loader=dataloader, model=net, criterion=criterion, optimizer=optimizer, scheduler=scheduler, device=device, epochs=1, dataset_size=dataset_size)\n",
    "\n",
    "\n",
    "print(res)\n",
    "\n"
   ],
   "metadata": {
    "collapsed": false,
    "pycharm": {
     "name": "#%%\n"
    }
   }
  },
  {
   "cell_type": "code",
   "execution_count": 44,
   "outputs": [
    {
     "name": "stdout",
     "output_type": "stream",
     "text": [
      "{'epoch_loss_train': [0.24622354405266897, 0.24466896968228477], 'loss_history_train': [172.3564808368683, 171.26827877759933], 'lr': [0.0004782969, 0.00043046721], 'epoch_loss_val': [0.24604156494140625, 0.24466521680355072], 'loss_history_val': [98.4166259765625, 97.86608672142029]}\n"
     ]
    }
   ],
   "source": [
    "print(res)"
   ],
   "metadata": {
    "collapsed": false,
    "pycharm": {
     "name": "#%%\n"
    }
   }
  },
  {
   "cell_type": "code",
   "execution_count": 15,
   "outputs": [
    {
     "data": {
      "text/plain": "<Figure size 432x288 with 1 Axes>",
      "image/png": "[encoded data removed]"
     },
     "metadata": {
      "needs_background": "light"
     },
     "output_type": "display_data"
    }
   ],
   "source": [
    "# fig = plt.figure()\n",
    "plt.plot(np.arange(len(res[\"epoch_loss_train\"])), res[\"epoch_loss_train\"], label=\"train\")\n",
    "plt.legend()\n",
    "plt.title(\"Train Loss\")\n",
    "plt.show()\n",
    "\n"
   ],
   "metadata": {
    "collapsed": false,
    "pycharm": {
     "name": "#%%\n"
    }
   }
  },
  {
   "cell_type": "code",
   "execution_count": 16,
   "outputs": [
    {
     "data": {
      "text/plain": "<Figure size 432x288 with 1 Axes>",
      "image/png": "[encoded data removed]"
     },
     "metadata": {
      "needs_background": "light"
     },
     "output_type": "display_data"
    }
   ],
   "source": [
    "\n",
    "plt.plot(np.arange(len(res[\"epoch_loss_val\"])), res[\"epoch_loss_val\"], label=\"val\")\n",
    "plt.legend()\n",
    "plt.title(\"Validation Loss\")\n",
    "plt.show()\n"
   ],
   "metadata": {
    "collapsed": false,
    "pycharm": {
     "name": "#%%\n"
    }
   }
  },
  {
   "cell_type": "code",
   "execution_count": 29,
   "outputs": [
    {
     "name": "stdout",
     "output_type": "stream",
     "text": [
      "torch.Size([1, 4096])\n"
     ]
    },
    {
     "data": {
      "text/plain": "torch.Size([1, 3, 128, 128])"
     },
     "execution_count": 29,
     "metadata": {},
     "output_type": "execute_result"
    }
   ],
   "source": [
    "\n",
    "\n",
    "alex = train_dataset[0][\"alex\"]\n",
    "net.train(False)\n",
    "out = net(alex.unsqueeze(0).to(device))\n",
    "\n",
    "out.size()\n",
    "\n",
    "\n",
    "\n",
    "\n",
    "\n",
    "\n",
    "\n"
   ],
   "metadata": {
    "collapsed": false,
    "pycharm": {
     "name": "#%%\n"
    }
   }
  },
  {
   "cell_type": "code",
   "execution_count": 31,
   "outputs": [
    {
     "data": {
      "text/plain": "torch.Size([3, 128, 128])"
     },
     "execution_count": 31,
     "metadata": {},
     "output_type": "execute_result"
    }
   ],
   "source": [
    "a = out[0, ::, :]\n",
    "a.size()"
   ],
   "metadata": {
    "collapsed": false,
    "pycharm": {
     "name": "#%%\n"
    }
   }
  },
  {
   "cell_type": "code",
   "execution_count": 32,
   "outputs": [
    {
     "name": "stderr",
     "output_type": "stream",
     "text": [
      "Clipping input data to the valid range for imshow with RGB data ([0..1] for floats or [0..255] for integers).\n"
     ]
    },
    {
     "data": {
      "text/plain": "<matplotlib.image.AxesImage at 0x7fb6360a53a0>"
     },
     "execution_count": 32,
     "metadata": {},
     "output_type": "execute_result"
    },
    {
     "data": {
      "text/plain": "<Figure size 432x288 with 1 Axes>",
      "image/png": "[encoded data removed]"
     },
     "metadata": {
      "needs_background": "light"
     },
     "output_type": "display_data"
    }
   ],
   "source": [
    "plt.imshow(a.to(\"cpu\").permute(1, 2, 0).detach().numpy())"
   ],
   "metadata": {
    "collapsed": false,
    "pycharm": {
     "name": "#%%\n"
    }
   }
  },
  {
   "cell_type": "code",
   "execution_count": 33,
   "outputs": [
    {
     "data": {
      "text/plain": "tensor([[[-0.0007, -0.0008, -0.0009,  ..., -0.0008, -0.0009, -0.0008],\n         [-0.0008, -0.0008, -0.0008,  ..., -0.0008, -0.0007, -0.0008],\n         [-0.0008, -0.0008, -0.0009,  ..., -0.0008, -0.0008, -0.0008],\n         ...,\n         [-0.0008, -0.0008, -0.0008,  ..., -0.0008, -0.0007, -0.0008],\n         [-0.0009, -0.0009, -0.0009,  ..., -0.0008, -0.0008, -0.0008],\n         [-0.0008, -0.0008, -0.0008,  ..., -0.0008, -0.0007, -0.0008]],\n\n        [[-0.0005, -0.0003, -0.0005,  ..., -0.0003, -0.0004, -0.0004],\n         [-0.0004, -0.0004, -0.0004,  ..., -0.0004, -0.0003, -0.0004],\n         [-0.0006, -0.0002, -0.0004,  ..., -0.0003, -0.0003, -0.0003],\n         ...,\n         [-0.0004, -0.0004, -0.0004,  ..., -0.0004, -0.0003, -0.0004],\n         [-0.0006, -0.0003, -0.0004,  ..., -0.0003, -0.0003, -0.0004],\n         [-0.0004, -0.0004, -0.0004,  ..., -0.0004, -0.0004, -0.0004]],\n\n        [[ 0.1400,  0.1393,  0.1435,  ...,  0.1375,  0.1380,  0.1439],\n         [ 0.1404,  0.1246,  0.1386,  ...,  0.1225,  0.1425,  0.1349],\n         [ 0.1286,  0.1318,  0.1421,  ...,  0.1324,  0.1369,  0.1423],\n         ...,\n         [ 0.1400,  0.1229,  0.1379,  ...,  0.1225,  0.1433,  0.1345],\n         [ 0.1363,  0.1311,  0.1453,  ...,  0.1300,  0.1407,  0.1400],\n         [ 0.1383,  0.1245,  0.1341,  ...,  0.1248,  0.1369,  0.1323]]],\n       device='cuda:0', grad_fn=<SliceBackward0>)"
     },
     "execution_count": 33,
     "metadata": {},
     "output_type": "execute_result"
    }
   ],
   "source": [
    "a"
   ],
   "metadata": {
    "collapsed": false,
    "pycharm": {
     "name": "#%%\n"
    }
   }
  },
  {
   "cell_type": "code",
   "execution_count": null,
   "outputs": [],
   "source": [],
   "metadata": {
    "collapsed": false,
    "pycharm": {
     "name": "#%%\n"
    }
   }
  }
 ],
 "metadata": {
  "kernelspec": {
   "display_name": "Python 3",
   "language": "python",
   "name": "python3"
  },
  "language_info": {
   "codemirror_mode": {
    "name": "ipython",
    "version": 3
   },
   "file_extension": ".py",
   "mimetype": "text/x-python",
   "name": "python",
   "nbconvert_exporter": "python",
   "pygments_lexer": "ipython3",
   "version": "3.9.5"
  }
 },
 "nbformat": 4,
 "nbformat_minor": 0
}