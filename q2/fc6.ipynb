{
 "cells": [
  {
   "cell_type": "code",
   "execution_count": 3,
   "outputs": [],
   "source": [
    "import pandas as pd\n",
    "import os\n",
    "from skimage import io, transform, color\n",
    "from PIL import Image\n",
    "import torch\n",
    "import torch.nn as nn\n",
    "import torch.nn.functional as F\n",
    "import torchvision.transforms.functional as fn\n",
    "from torchvision import models\n",
    "from torchvision.io import read_image\n",
    "import numpy as np\n",
    "import matplotlib.pyplot as plt\n",
    "from torch.utils.data import dataset, dataloader, Dataset\n",
    "from torchvision import transforms, utils"
   ],
   "metadata": {
    "collapsed": false,
    "pycharm": {
     "name": "#%%\n"
    }
   }
  },
  {
   "cell_type": "code",
   "execution_count": 2,
   "outputs": [],
   "source": [
    "%load_ext autoreload\n",
    "%autoreload 2"
   ],
   "metadata": {
    "collapsed": false,
    "pycharm": {
     "name": "#%%\n"
    }
   }
  },
  {
   "cell_type": "code",
   "execution_count": null,
   "outputs": [],
   "source": [
    "!mkdir -p /content/drive/MyDrive/data/state"
   ],
   "metadata": {
    "collapsed": false,
    "pycharm": {
     "name": "#%%\n"
    }
   }
  },
  {
   "cell_type": "code",
   "execution_count": null,
   "outputs": [],
   "source": [
    "!wget http://cs231n.stanford.edu/tiny-imagenet-200.zip -O /content/drive/MyDrive/data/testSet.zip"
   ],
   "metadata": {
    "collapsed": false,
    "pycharm": {
     "name": "#%%\n"
    }
   }
  },
  {
   "cell_type": "code",
   "execution_count": null,
   "outputs": [],
   "source": [
    "!unzip -q /content/drive/MyDrive/data/testSet.zip -d /content/drive/MyDrive/data/"
   ],
   "metadata": {
    "collapsed": false,
    "pycharm": {
     "name": "#%%\n"
    }
   }
  },
  {
   "cell_type": "code",
   "execution_count": null,
   "outputs": [],
   "source": [
    "!git clone https://github.com/1-1is0/deep-projects"
   ],
   "metadata": {
    "collapsed": false,
    "pycharm": {
     "name": "#%%\n"
    }
   }
  },
  {
   "cell_type": "code",
   "execution_count": null,
   "outputs": [],
   "source": [
    "!cp deep-projects/q2/*.py ."
   ],
   "metadata": {
    "collapsed": false,
    "pycharm": {
     "name": "#%%\n"
    }
   }
  },
  {
   "cell_type": "code",
   "execution_count": 4,
   "outputs": [
    {
     "name": "stdout",
     "output_type": "stream",
     "text": [
      "cuda\n"
     ]
    }
   ],
   "source": [
    "torch.cuda.is_available()\n",
    "device = torch.device(\"cuda\" if torch.cuda.is_available() else \"cpu\")\n",
    "print(device)"
   ],
   "metadata": {
    "collapsed": false,
    "pycharm": {
     "name": "#%%\n"
    }
   }
  },
  {
   "cell_type": "code",
   "execution_count": null,
   "outputs": [],
   "source": [
    "if os.environ.get(\"USERNAME\") == 'amir':\n",
    "    base_path = \".\"\n",
    "else:\n",
    "    base_path = \"/content/drive/MyDrive\"\n",
    "data_path = f\"{base_path}/data/tiny-imagenet-200/train/*\"\n",
    "state_path = f\"{base_path}/data/state\""
   ],
   "metadata": {
    "collapsed": false,
    "pycharm": {
     "name": "#%%\n"
    }
   }
  },
  {
   "cell_type": "code",
   "execution_count": 1,
   "outputs": [
    {
     "name": "stderr",
     "output_type": "stream",
     "text": [
      "/home/amir/uni/deep-vision/venv/lib/python3.9/site-packages/torch/cuda/__init__.py:82: UserWarning: CUDA initialization: CUDA unknown error - this may be due to an incorrectly set up environment, e.g. changing env variable CUDA_VISIBLE_DEVICES after program start. Setting the available devices to be zero. (Triggered internally at  ../c10/cuda/CUDAFunctions.cpp:112.)\n",
      "  return torch._C._cuda_getDeviceCount() > 0\n"
     ]
    },
    {
     "ename": "NameError",
     "evalue": "name 'data_path' is not defined",
     "output_type": "error",
     "traceback": [
      "\u001B[0;31m---------------------------------------------------------------------------\u001B[0m",
      "\u001B[0;31mNameError\u001B[0m                                 Traceback (most recent call last)",
      "Input \u001B[0;32mIn [1]\u001B[0m, in \u001B[0;36m<cell line: 2>\u001B[0;34m()\u001B[0m\n\u001B[1;32m      1\u001B[0m \u001B[38;5;28;01mfrom\u001B[39;00m \u001B[38;5;21;01mdataloader\u001B[39;00m \u001B[38;5;28;01mimport\u001B[39;00m load_data, ImageDataset, Rescale, ToTensor, GetAlexConv\n\u001B[0;32m----> 2\u001B[0m test_df, train_df \u001B[38;5;241m=\u001B[39m load_data(\u001B[43mdata_path\u001B[49m)\n\u001B[1;32m      3\u001B[0m train_dataset \u001B[38;5;241m=\u001B[39m ImageDataset(\n\u001B[1;32m      4\u001B[0m     train_df,\n\u001B[1;32m      5\u001B[0m     transform\u001B[38;5;241m=\u001B[39mtransforms\u001B[38;5;241m.\u001B[39mCompose(\n\u001B[0;32m   (...)\u001B[0m\n\u001B[1;32m     10\u001B[0m     ),\n\u001B[1;32m     11\u001B[0m )\n\u001B[1;32m     12\u001B[0m test_dataset \u001B[38;5;241m=\u001B[39m ImageDataset(\n\u001B[1;32m     13\u001B[0m     test_df,\n\u001B[1;32m     14\u001B[0m     transform\u001B[38;5;241m=\u001B[39mtransforms\u001B[38;5;241m.\u001B[39mCompose(\n\u001B[0;32m   (...)\u001B[0m\n\u001B[1;32m     19\u001B[0m     ),\n\u001B[1;32m     20\u001B[0m )\n",
      "\u001B[0;31mNameError\u001B[0m: name 'data_path' is not defined"
     ]
    }
   ],
   "source": [
    "from dataloader import load_data, ImageDataset, Rescale, ToTensor, GetAlexConv\n",
    "test_df, train_df = load_data(data_path)\n",
    "train_dataset = ImageDataset(\n",
    "    train_df,\n",
    "    transform=transforms.Compose(\n",
    "        [\n",
    "            Rescale((227, 227)),\n",
    "            ToTensor(),\n",
    "        ]\n",
    "    ),\n",
    ")\n",
    "test_dataset = ImageDataset(\n",
    "    test_df,\n",
    "    transform=transforms.Compose(\n",
    "        [\n",
    "            Rescale((227, 227)),\n",
    "            ToTensor(),\n",
    "        ]\n",
    "    ),\n",
    ")\n",
    "\n",
    "\n",
    "trainloader = torch.utils.data.DataLoader(\n",
    "    train_dataset, batch_size=64, shuffle=True, num_workers=2\n",
    ")\n",
    "testloader = torch.utils.data.DataLoader(\n",
    "    test_dataset, batch_size=64, shuffle=True, num_workers=2\n",
    ")\n",
    "\n",
    "print(\"train_dataset:\", len(train_dataset))\n",
    "print(\"test_dataset\", len(test_dataset))"
   ],
   "metadata": {
    "collapsed": false,
    "pycharm": {
     "name": "#%%\n"
    }
   }
  },
  {
   "cell_type": "code",
   "execution_count": 5,
   "outputs": [
    {
     "name": "stdout",
     "output_type": "stream",
     "text": [
      "AlexFc6(\n",
      "  (fc1): Linear(in_features=4096, out_features=4096, bias=True)\n",
      "  (fc2): Linear(in_features=4096, out_features=4096, bias=True)\n",
      "  (fc3): Linear(in_features=4096, out_features=4096, bias=True)\n",
      "  (upconv1): ConvTranspose2d(256, 256, kernel_size=(5, 5), stride=(2, 2), padding=(2, 2), output_padding=(1, 1))\n",
      "  (upconv2): ConvTranspose2d(256, 128, kernel_size=(5, 5), stride=(2, 2), padding=(2, 2), output_padding=(1, 1))\n",
      "  (upconv3): ConvTranspose2d(128, 64, kernel_size=(5, 5), stride=(2, 2), padding=(2, 2), output_padding=(1, 1))\n",
      "  (upconv4): ConvTranspose2d(64, 32, kernel_size=(5, 5), stride=(2, 2), padding=(2, 2), output_padding=(1, 1))\n",
      "  (upconv5): ConvTranspose2d(32, 3, kernel_size=(5, 5), stride=(2, 2), padding=(2, 2), output_padding=(1, 1))\n",
      ")\n"
     ]
    }
   ],
   "source": [
    "from model import AlexFc6\n",
    "net = AlexFc6().to(device)\n",
    "net.initialize_weights()\n",
    "print(net)"
   ],
   "metadata": {
    "collapsed": false,
    "pycharm": {
     "name": "#%%\n"
    }
   }
  },
  {
   "cell_type": "code",
   "execution_count": 6,
   "outputs": [],
   "source": [
    "import torch.optim as optim\n",
    "from torch.optim.lr_scheduler import LambdaLR, ExponentialLR, StepLR\n",
    "\n",
    "criterion = nn.MSELoss()\n",
    "optimizer = optim.SGD(net.parameters(), lr=0.001, momentum=0.9)\n",
    "\n",
    "scheduler = StepLR(optimizer, step_size=5, gamma=0.3)\n",
    "\n"
   ],
   "metadata": {
    "collapsed": false,
    "pycharm": {
     "name": "#%%\n"
    }
   }
  },
  {
   "cell_type": "code",
   "execution_count": 7,
   "outputs": [
    {
     "name": "stdout",
     "output_type": "stream",
     "text": [
      "epoch 0 15.416377511891453\n",
      "epoch 0 13.859056881495885\n",
      "Finished Training\n",
      "{'epoch_loss_train': [0.24622354405266897, 0.24466896968228477, 0.24337120992796762, 0.24225736090115138], 'loss_history_train': [172.3564808368683, 171.26827877759933, 170.35984694957733, 169.58015263080597], 'lr': [0.0004782969, 0.00043046721, 0.000387420489, 0.0003486784401], 'epoch_loss_val': [0.24604156494140625, 0.24466521680355072, 0.2435037064552307, 0.24253349542617797], 'loss_history_val': [98.4166259765625, 97.86608672142029, 97.40148258209229, 97.01339817047119]}\n"
     ]
    }
   ],
   "source": [
    "from model import train_model\n",
    "dataloader = {\n",
    "    \"train\": trainloader,\n",
    "    \"val\": testloader,\n",
    "}\n",
    "dataset_size = {\n",
    "    \"train\": len(train_dataset),\n",
    "    \"val\": len(test_dataset),\n",
    "}\n",
    "\n",
    "res = train_model(data_loader=dataloader, model=net, criterion=criterion, optimizer=optimizer, scheduler=scheduler, device=device, epochs=50, dataset_size=dataset_size)\n",
    "\n",
    "\n",
    "print(res)\n",
    "\n"
   ],
   "metadata": {
    "collapsed": false,
    "pycharm": {
     "name": "#%%\n"
    }
   }
  },
  {
   "cell_type": "code",
   "execution_count": null,
   "outputs": [],
   "source": [
    "!cp /content/drive/MyDrive/data/state/state-AlexFc6.pth /kaggle/working/"
   ],
   "metadata": {
    "collapsed": false,
    "pycharm": {
     "name": "#%%\n"
    }
   }
  },
  {
   "cell_type": "code",
   "execution_count": 44,
   "outputs": [
    {
     "name": "stdout",
     "output_type": "stream",
     "text": [
      "{'epoch_loss_train': [0.24622354405266897, 0.24466896968228477], 'loss_history_train': [172.3564808368683, 171.26827877759933], 'lr': [0.0004782969, 0.00043046721], 'epoch_loss_val': [0.24604156494140625, 0.24466521680355072], 'loss_history_val': [98.4166259765625, 97.86608672142029]}\n"
     ]
    }
   ],
   "source": [
    "print(res)"
   ],
   "metadata": {
    "collapsed": false,
    "pycharm": {
     "name": "#%%\n"
    }
   }
  },
  {
   "cell_type": "code",
   "execution_count": 26,
   "outputs": [
    {
     "data": {
      "text/plain": "<Figure size 432x288 with 1 Axes>",
      "image/png": "[encoded data removed]"
     },
     "metadata": {
      "needs_background": "light"
     },
     "output_type": "display_data"
    }
   ],
   "source": [
    "# fig = plt.figure()\n",
    "plt.plot(np.arange(len(res[\"epoch_loss_train\"])), res[\"epoch_loss_train\"], label=\"train\")\n",
    "plt.legend()\n",
    "plt.title(\"Train Loss\")\n",
    "plt.show()\n",
    "\n"
   ],
   "metadata": {
    "collapsed": false,
    "pycharm": {
     "name": "#%%\n"
    }
   }
  },
  {
   "cell_type": "code",
   "execution_count": 27,
   "outputs": [
    {
     "data": {
      "text/plain": "<Figure size 432x288 with 1 Axes>",
      "image/png": "[encoded data removed]"
     },
     "metadata": {
      "needs_background": "light"
     },
     "output_type": "display_data"
    }
   ],
   "source": [
    "\n",
    "plt.plot(np.arange(len(res[\"epoch_loss_val\"])), res[\"epoch_loss_val\"], label=\"val\")\n",
    "plt.legend()\n",
    "plt.title(\"Validation Loss\")\n",
    "plt.show()\n"
   ],
   "metadata": {
    "collapsed": false,
    "pycharm": {
     "name": "#%%\n"
    }
   }
  },
  {
   "cell_type": "code",
   "execution_count": 29,
   "outputs": [
    {
     "name": "stdout",
     "output_type": "stream",
     "text": [
      "torch.Size([1, 4096])\n"
     ]
    },
    {
     "data": {
      "text/plain": "torch.Size([1, 3, 128, 128])"
     },
     "execution_count": 29,
     "metadata": {},
     "output_type": "execute_result"
    }
   ],
   "source": [
    "\n",
    "\n",
    "alex = train_dataset[0][\"alex\"]\n",
    "net.train(False)\n",
    "out = net(alex.unsqueeze(0).to(device))\n",
    "\n",
    "out.size()\n",
    "\n",
    "\n",
    "\n",
    "\n",
    "\n",
    "\n",
    "\n"
   ],
   "metadata": {
    "collapsed": false,
    "pycharm": {
     "name": "#%%\n"
    }
   }
  },
  {
   "cell_type": "code",
   "execution_count": 31,
   "outputs": [
    {
     "data": {
      "text/plain": "torch.Size([3, 128, 128])"
     },
     "execution_count": 31,
     "metadata": {},
     "output_type": "execute_result"
    }
   ],
   "source": [
    "a = out[0, ::, :]\n",
    "a.size()"
   ],
   "metadata": {
    "collapsed": false,
    "pycharm": {
     "name": "#%%\n"
    }
   }
  },
  {
   "cell_type": "code",
   "execution_count": 32,
   "outputs": [
    {
     "name": "stderr",
     "output_type": "stream",
     "text": [
      "Clipping input data to the valid range for imshow with RGB data ([0..1] for floats or [0..255] for integers).\n"
     ]
    },
    {
     "data": {
      "text/plain": "<matplotlib.image.AxesImage at 0x7fb6360a53a0>"
     },
     "execution_count": 32,
     "metadata": {},
     "output_type": "execute_result"
    },
    {
     "data": {
      "text/plain": "<Figure size 432x288 with 1 Axes>",
      "image/png": "[encoded data removed]"
     },
     "metadata": {
      "needs_background": "light"
     },
     "output_type": "display_data"
    }
   ],
   "source": [
    "plt.imshow(a.to(\"cpu\").permute(1, 2, 0).detach().numpy())"
   ],
   "metadata": {
    "collapsed": false,
    "pycharm": {
     "name": "#%%\n"
    }
   }
  },
  {
   "cell_type": "code",
   "execution_count": 7,
   "outputs": [
    {
     "data": {
      "text/plain": "AlexFc6(\n  (fc1): Linear(in_features=4096, out_features=4096, bias=True)\n  (fc2): Linear(in_features=4096, out_features=4096, bias=True)\n  (fc3): Linear(in_features=4096, out_features=4096, bias=True)\n  (upconv1): ConvTranspose2d(256, 256, kernel_size=(5, 5), stride=(2, 2), padding=(2, 2), output_padding=(1, 1))\n  (upconv2): ConvTranspose2d(256, 128, kernel_size=(5, 5), stride=(2, 2), padding=(2, 2), output_padding=(1, 1))\n  (upconv3): ConvTranspose2d(128, 64, kernel_size=(5, 5), stride=(2, 2), padding=(2, 2), output_padding=(1, 1))\n  (upconv4): ConvTranspose2d(64, 32, kernel_size=(5, 5), stride=(2, 2), padding=(2, 2), output_padding=(1, 1))\n  (upconv5): ConvTranspose2d(32, 3, kernel_size=(5, 5), stride=(2, 2), padding=(2, 2), output_padding=(1, 1))\n)"
     },
     "execution_count": 7,
     "metadata": {},
     "output_type": "execute_result"
    }
   ],
   "source": [
    "from model import AlexFc6\n",
    "model = AlexFc6()\n",
    "state = torch.load(\"./state/state-AlexFc6.pth\")\n",
    "model.load_state_dict(state[\"state_dict\"])\n",
    "# optimizer.load_state_dict(state[\"optimizer\"])\n",
    "# scheduler.load_state_dict(state[\"scheduler\"])\n",
    "state_res = state[\"res\"]\n",
    "state_epoch = state[\"epoch\"]\n",
    "model.eval()\n"
   ],
   "metadata": {
    "collapsed": false,
    "pycharm": {
     "name": "#%%\n"
    }
   }
  },
  {
   "cell_type": "code",
   "execution_count": 25,
   "outputs": [],
   "source": [
    "res = state_res"
   ],
   "metadata": {
    "collapsed": false,
    "pycharm": {
     "name": "#%%\n"
    }
   }
  },
  {
   "cell_type": "code",
   "execution_count": 16,
   "outputs": [
    {
     "name": "stdout",
     "output_type": "stream",
     "text": [
      "torch.Size([3, 227, 227])\n",
      "torch.Size([4096])\n"
     ]
    }
   ],
   "source": [
    "image = train_dataset[0][\"image\"]\n",
    "print(image.shape)\n",
    "alex = train_dataset[0]['alex']\n",
    "print(alex.shape)"
   ],
   "metadata": {
    "collapsed": false,
    "pycharm": {
     "name": "#%%\n"
    }
   }
  },
  {
   "cell_type": "code",
   "execution_count": 20,
   "outputs": [],
   "source": [
    "ans= model(alex.unsqueeze(0).to('cpu'))"
   ],
   "metadata": {
    "collapsed": false,
    "pycharm": {
     "name": "#%%\n"
    }
   }
  },
  {
   "cell_type": "code",
   "execution_count": 21,
   "outputs": [
    {
     "name": "stdout",
     "output_type": "stream",
     "text": [
      "torch.Size([1, 3, 128, 128])\n"
     ]
    }
   ],
   "source": [
    "print(ans.shape)"
   ],
   "metadata": {
    "collapsed": false,
    "pycharm": {
     "name": "#%%\n"
    }
   }
  },
  {
   "cell_type": "code",
   "execution_count": 23,
   "outputs": [
    {
     "data": {
      "text/plain": "<matplotlib.image.AxesImage at 0x7efe8b8ee310>"
     },
     "execution_count": 23,
     "metadata": {},
     "output_type": "execute_result"
    },
    {
     "data": {
      "text/plain": "<Figure size 432x288 with 1 Axes>",
      "image/png": "[encoded data removed]"
     },
     "metadata": {
      "needs_background": "light"
     },
     "output_type": "display_data"
    }
   ],
   "source": [
    "plt.imshow(ans[0, :, :,:].to(\"cpu\").permute(1, 2, 0).detach().numpy())\n"
   ],
   "metadata": {
    "collapsed": false,
    "pycharm": {
     "name": "#%%\n"
    }
   }
  },
  {
   "cell_type": "code",
   "execution_count": null,
   "outputs": [],
   "source": [],
   "metadata": {
    "collapsed": false,
    "pycharm": {
     "name": "#%%\n"
    }
   }
  }
 ],
 "metadata": {
  "kernelspec": {
   "display_name": "Python 3",
   "language": "python",
   "name": "python3"
  },
  "language_info": {
   "codemirror_mode": {
    "name": "ipython",
    "version": 3
   },
   "file_extension": ".py",
   "mimetype": "text/x-python",
   "name": "python",
   "nbconvert_exporter": "python",
   "pygments_lexer": "ipython3",
   "version": "3.9.5"
  }
 },
 "nbformat": 4,
 "nbformat_minor": 0
}